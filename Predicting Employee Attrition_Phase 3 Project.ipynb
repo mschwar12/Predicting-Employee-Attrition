{
 "cells": [
  {
   "cell_type": "markdown",
   "id": "electrical-definition",
   "metadata": {},
   "source": [
    "# Machine Learning and HR"
   ]
  },
  {
   "cell_type": "markdown",
   "id": "inappropriate-easter",
   "metadata": {},
   "source": [
    "![/images/employee_attrition.jpg](images/employee_attrition.jpg)"
   ]
  },
  {
   "cell_type": "markdown",
   "id": "minus-aberdeen",
   "metadata": {},
   "source": [
    "## Predicting Employee Attrition"
   ]
  },
  {
   "cell_type": "markdown",
   "id": "powered-tomorrow",
   "metadata": {},
   "source": [
    "## Overview and Business Problem\n",
    "\n",
    "Employee attrition is one of the more costly recurring expenses at any company. Not only are you losing the institutional knowledge that person has learned on the job which makes them very effective (especially if they've been on the job for a number of years), but you are also paying for lost productivity, and the time it takes to hire someone new, as it prevents current employees from fully doing their own jobs. According to [IBM](https://toggl.com/blog/employee-attrition), the cost of attrition can be 1.5x the salary of the employee who left, and for a mid-size company, up to $6.75 million a year.\n",
    "\n",
    "Any profit-maximizing firm would want to reduce attrition. Lower attrition is less costly, and generally means that your employees are happy, and in turn, productive. HR data is an extremely valuable resource and can be highly advantageous to companies who take time to learn it. Employees tend to be a company's most important assets, and understanding the factors causing them to leave is invaluable.\n",
    "\n",
    "This project will go into what factors lead to employee attrition, using an employee dataset from IBM. We are hoping to develop a model that results in a very low **false negative rate**. This would mean our model rarely misses employees who decide to leave. In practice, this model could be used to help employers address areas making employees unhappy and unproductive, and which ones are most likely to leave. This will provide them with the data to step in and support employees before the leave and develop better HR policies that make employees feel welcome."
   ]
  },
  {
   "cell_type": "markdown",
   "id": "determined-aging",
   "metadata": {},
   "source": [
    "## Data Understanding\n",
    "\n",
    "The data, created by IBM data scientists, comes from [Kaggle](https://www.kaggle.com/pavansubhasht/ibm-hr-analytics-attrition-dataset). There are 1470 rows, each representing one employee. There 30 attributes for each employee, and whether they left the company or not. Some of these attributes are:\n",
    "\n",
    "- Age\n",
    "- Job satisfaction\n",
    "- Education\n",
    "- Total working years\n",
    "- Job role\n",
    "- Distance from home\n",
    "- and monthly income\n",
    "\n",
    "Using these features, I will test out different classification models and fine-tune the model that best reduces the false negative rate (best recall score)."
   ]
  },
  {
   "cell_type": "code",
   "execution_count": 1,
   "id": "eastern-composer",
   "metadata": {},
   "outputs": [],
   "source": [
    "#Library imports\n",
    "\n",
    "import pandas as pd\n",
    "import numpy as np\n",
    "import matplotlib.pyplot as plt\n",
    "%matplotlib inline\n",
    "import seaborn as sns\n",
    "from sklearn.preprocessing import StandardScaler, MinMaxScaler, OneHotEncoder\n",
    "from sklearn.model_selection import train_test_split, GridSearchCV, cross_val_score\n",
    "from sklearn.naive_bayes import GaussianNB\n",
    "from sklearn.linear_model import LogisticRegression\n",
    "from sklearn.tree import DecisionTreeClassifier, DecisionTreeRegressor\n",
    "from sklearn.ensemble import RandomForestClassifier, AdaBoostClassifier\n",
    "from sklearn.metrics import accuracy_score, f1_score, recall_score, confusion_matrix, classification_report, roc_curve, auc, roc_auc_score, plot_confusion_matrix\n",
    "from sklearn.pipeline import Pipeline\n",
    "from sklearn.compose import ColumnTransformer\n",
    "import xgboost\n",
    "from xgboost import XGBClassifier\n",
    "\n",
    "import warnings\n",
    "warnings.filterwarnings(\"ignore\")"
   ]
  },
  {
   "cell_type": "code",
   "execution_count": 2,
   "id": "homeless-pound",
   "metadata": {},
   "outputs": [],
   "source": [
    "#evaluate function\n",
    "\n",
    "def evaluate(estimator, X_train, X_test, y_train, y_test, use_decision_function='yes'):\n",
    "    '''\n",
    "    Evaluation function to show a few scores for both the train and test set\n",
    "    Also shows a confusion matrix for the test set\n",
    "    \n",
    "    use_decision_function allows you to toggle whether you use decision_function or\n",
    "    predict_proba in order to get the output needed for roc_auc_score\n",
    "    If use_decision_function == 'skip', then it ignores calculating the roc_auc_score\n",
    "    \n",
    "    courtesy of Lindsey Berlin\n",
    "    '''\n",
    "    # grab predictions\n",
    "    train_preds = estimator.predict(X_train)\n",
    "    test_preds = estimator.predict(X_test)\n",
    "    \n",
    "    # output needed for roc_auc_score\n",
    "    if use_decision_function == 'skip': # skips calculating the roc_auc_score\n",
    "        train_out = False\n",
    "        test_out = False\n",
    "    elif use_decision_function == 'yes': # not all classifiers have decision_function\n",
    "        train_out = estimator.decision_function(X_train)\n",
    "        test_out = estimator.decision_function(X_test)\n",
    "    elif use_decision_function == 'no':\n",
    "        train_out = estimator.predict_proba(X_train)[:, 1] # proba for the 1 class\n",
    "        test_out = estimator.predict_proba(X_test)[:, 1]\n",
    "    else:\n",
    "        raise Exception (\"The value for use_decision_function should be 'skip', 'yes' or 'no'.\")\n",
    "\n",
    "    print(type(test_out))\n",
    "    \n",
    "    # print scores\n",
    "    print(\"Train Scores\")\n",
    "    print(\"------------\")\n",
    "    print(f\"Accuracy: {accuracy_score(y_train, train_preds)}\")\n",
    "    print(f\"Recall: {recall_score(y_train, train_preds)}\")\n",
    "    print(f\"F1 Score: {f1_score(y_train, train_preds)}\")\n",
    "    if type(train_out) == np.ndarray:\n",
    "        print(f\"ROC-AUC: {roc_auc_score(y_train, train_out)}\")\n",
    "    print(\"----\" * 5)\n",
    "    print(\"Test Scores\")\n",
    "    print(\"-----------\")\n",
    "    print(f\"Accuracy: {accuracy_score(y_test, test_preds)}\")\n",
    "    print(f\"Recall: {recall_score(y_test, test_preds)}\")\n",
    "    print(f\"F1 Score: {f1_score(y_test, test_preds)}\")\n",
    "    if type(test_out) == np.ndarray:\n",
    "        print(f\"ROC-AUC: {roc_auc_score(y_test, test_out)}\")\n",
    "    \n",
    "    # plot test confusion matrix\n",
    "    plot_confusion_matrix(estimator, X_test, y_test)\n",
    "    plt.show()"
   ]
  },
  {
   "cell_type": "code",
   "execution_count": 3,
   "id": "selective-associate",
   "metadata": {},
   "outputs": [
    {
     "data": {
      "text/html": [
       "<div>\n",
       "<style scoped>\n",
       "    .dataframe tbody tr th:only-of-type {\n",
       "        vertical-align: middle;\n",
       "    }\n",
       "\n",
       "    .dataframe tbody tr th {\n",
       "        vertical-align: top;\n",
       "    }\n",
       "\n",
       "    .dataframe thead th {\n",
       "        text-align: right;\n",
       "    }\n",
       "</style>\n",
       "<table border=\"1\" class=\"dataframe\">\n",
       "  <thead>\n",
       "    <tr style=\"text-align: right;\">\n",
       "      <th></th>\n",
       "      <th>Age</th>\n",
       "      <th>Attrition</th>\n",
       "      <th>BusinessTravel</th>\n",
       "      <th>DailyRate</th>\n",
       "      <th>Department</th>\n",
       "      <th>DistanceFromHome</th>\n",
       "      <th>Education</th>\n",
       "      <th>EducationField</th>\n",
       "      <th>EmployeeCount</th>\n",
       "      <th>EmployeeNumber</th>\n",
       "      <th>...</th>\n",
       "      <th>RelationshipSatisfaction</th>\n",
       "      <th>StandardHours</th>\n",
       "      <th>StockOptionLevel</th>\n",
       "      <th>TotalWorkingYears</th>\n",
       "      <th>TrainingTimesLastYear</th>\n",
       "      <th>WorkLifeBalance</th>\n",
       "      <th>YearsAtCompany</th>\n",
       "      <th>YearsInCurrentRole</th>\n",
       "      <th>YearsSinceLastPromotion</th>\n",
       "      <th>YearsWithCurrManager</th>\n",
       "    </tr>\n",
       "  </thead>\n",
       "  <tbody>\n",
       "    <tr>\n",
       "      <th>0</th>\n",
       "      <td>41</td>\n",
       "      <td>Yes</td>\n",
       "      <td>Travel_Rarely</td>\n",
       "      <td>1102</td>\n",
       "      <td>Sales</td>\n",
       "      <td>1</td>\n",
       "      <td>2</td>\n",
       "      <td>Life Sciences</td>\n",
       "      <td>1</td>\n",
       "      <td>1</td>\n",
       "      <td>...</td>\n",
       "      <td>1</td>\n",
       "      <td>80</td>\n",
       "      <td>0</td>\n",
       "      <td>8</td>\n",
       "      <td>0</td>\n",
       "      <td>1</td>\n",
       "      <td>6</td>\n",
       "      <td>4</td>\n",
       "      <td>0</td>\n",
       "      <td>5</td>\n",
       "    </tr>\n",
       "    <tr>\n",
       "      <th>1</th>\n",
       "      <td>49</td>\n",
       "      <td>No</td>\n",
       "      <td>Travel_Frequently</td>\n",
       "      <td>279</td>\n",
       "      <td>Research &amp; Development</td>\n",
       "      <td>8</td>\n",
       "      <td>1</td>\n",
       "      <td>Life Sciences</td>\n",
       "      <td>1</td>\n",
       "      <td>2</td>\n",
       "      <td>...</td>\n",
       "      <td>4</td>\n",
       "      <td>80</td>\n",
       "      <td>1</td>\n",
       "      <td>10</td>\n",
       "      <td>3</td>\n",
       "      <td>3</td>\n",
       "      <td>10</td>\n",
       "      <td>7</td>\n",
       "      <td>1</td>\n",
       "      <td>7</td>\n",
       "    </tr>\n",
       "    <tr>\n",
       "      <th>2</th>\n",
       "      <td>37</td>\n",
       "      <td>Yes</td>\n",
       "      <td>Travel_Rarely</td>\n",
       "      <td>1373</td>\n",
       "      <td>Research &amp; Development</td>\n",
       "      <td>2</td>\n",
       "      <td>2</td>\n",
       "      <td>Other</td>\n",
       "      <td>1</td>\n",
       "      <td>4</td>\n",
       "      <td>...</td>\n",
       "      <td>2</td>\n",
       "      <td>80</td>\n",
       "      <td>0</td>\n",
       "      <td>7</td>\n",
       "      <td>3</td>\n",
       "      <td>3</td>\n",
       "      <td>0</td>\n",
       "      <td>0</td>\n",
       "      <td>0</td>\n",
       "      <td>0</td>\n",
       "    </tr>\n",
       "    <tr>\n",
       "      <th>3</th>\n",
       "      <td>33</td>\n",
       "      <td>No</td>\n",
       "      <td>Travel_Frequently</td>\n",
       "      <td>1392</td>\n",
       "      <td>Research &amp; Development</td>\n",
       "      <td>3</td>\n",
       "      <td>4</td>\n",
       "      <td>Life Sciences</td>\n",
       "      <td>1</td>\n",
       "      <td>5</td>\n",
       "      <td>...</td>\n",
       "      <td>3</td>\n",
       "      <td>80</td>\n",
       "      <td>0</td>\n",
       "      <td>8</td>\n",
       "      <td>3</td>\n",
       "      <td>3</td>\n",
       "      <td>8</td>\n",
       "      <td>7</td>\n",
       "      <td>3</td>\n",
       "      <td>0</td>\n",
       "    </tr>\n",
       "    <tr>\n",
       "      <th>4</th>\n",
       "      <td>27</td>\n",
       "      <td>No</td>\n",
       "      <td>Travel_Rarely</td>\n",
       "      <td>591</td>\n",
       "      <td>Research &amp; Development</td>\n",
       "      <td>2</td>\n",
       "      <td>1</td>\n",
       "      <td>Medical</td>\n",
       "      <td>1</td>\n",
       "      <td>7</td>\n",
       "      <td>...</td>\n",
       "      <td>4</td>\n",
       "      <td>80</td>\n",
       "      <td>1</td>\n",
       "      <td>6</td>\n",
       "      <td>3</td>\n",
       "      <td>3</td>\n",
       "      <td>2</td>\n",
       "      <td>2</td>\n",
       "      <td>2</td>\n",
       "      <td>2</td>\n",
       "    </tr>\n",
       "  </tbody>\n",
       "</table>\n",
       "<p>5 rows × 35 columns</p>\n",
       "</div>"
      ],
      "text/plain": [
       "   Age Attrition     BusinessTravel  DailyRate              Department  \\\n",
       "0   41       Yes      Travel_Rarely       1102                   Sales   \n",
       "1   49        No  Travel_Frequently        279  Research & Development   \n",
       "2   37       Yes      Travel_Rarely       1373  Research & Development   \n",
       "3   33        No  Travel_Frequently       1392  Research & Development   \n",
       "4   27        No      Travel_Rarely        591  Research & Development   \n",
       "\n",
       "   DistanceFromHome  Education EducationField  EmployeeCount  EmployeeNumber  \\\n",
       "0                 1          2  Life Sciences              1               1   \n",
       "1                 8          1  Life Sciences              1               2   \n",
       "2                 2          2          Other              1               4   \n",
       "3                 3          4  Life Sciences              1               5   \n",
       "4                 2          1        Medical              1               7   \n",
       "\n",
       "   ...  RelationshipSatisfaction StandardHours  StockOptionLevel  \\\n",
       "0  ...                         1            80                 0   \n",
       "1  ...                         4            80                 1   \n",
       "2  ...                         2            80                 0   \n",
       "3  ...                         3            80                 0   \n",
       "4  ...                         4            80                 1   \n",
       "\n",
       "   TotalWorkingYears  TrainingTimesLastYear WorkLifeBalance  YearsAtCompany  \\\n",
       "0                  8                      0               1               6   \n",
       "1                 10                      3               3              10   \n",
       "2                  7                      3               3               0   \n",
       "3                  8                      3               3               8   \n",
       "4                  6                      3               3               2   \n",
       "\n",
       "  YearsInCurrentRole  YearsSinceLastPromotion  YearsWithCurrManager  \n",
       "0                  4                        0                     5  \n",
       "1                  7                        1                     7  \n",
       "2                  0                        0                     0  \n",
       "3                  7                        3                     0  \n",
       "4                  2                        2                     2  \n",
       "\n",
       "[5 rows x 35 columns]"
      ]
     },
     "execution_count": 3,
     "metadata": {},
     "output_type": "execute_result"
    }
   ],
   "source": [
    "#load data\n",
    "\n",
    "df = pd.read_csv('HR_Employee_Attrition.csv')\n",
    "\n",
    "df.head()"
   ]
  },
  {
   "cell_type": "markdown",
   "id": "eligible-reward",
   "metadata": {},
   "source": [
    "This dataset has 1470 rows and 35 columns. Let's show the categorical and numeric column breakdown"
   ]
  },
  {
   "cell_type": "code",
   "execution_count": 4,
   "id": "upset-marine",
   "metadata": {},
   "outputs": [
    {
     "data": {
      "text/html": [
       "<div>\n",
       "<style scoped>\n",
       "    .dataframe tbody tr th:only-of-type {\n",
       "        vertical-align: middle;\n",
       "    }\n",
       "\n",
       "    .dataframe tbody tr th {\n",
       "        vertical-align: top;\n",
       "    }\n",
       "\n",
       "    .dataframe thead th {\n",
       "        text-align: right;\n",
       "    }\n",
       "</style>\n",
       "<table border=\"1\" class=\"dataframe\">\n",
       "  <thead>\n",
       "    <tr style=\"text-align: right;\">\n",
       "      <th></th>\n",
       "      <th>Attrition</th>\n",
       "      <th>BusinessTravel</th>\n",
       "      <th>Department</th>\n",
       "      <th>EducationField</th>\n",
       "      <th>Gender</th>\n",
       "      <th>JobRole</th>\n",
       "      <th>MaritalStatus</th>\n",
       "      <th>Over18</th>\n",
       "      <th>OverTime</th>\n",
       "    </tr>\n",
       "  </thead>\n",
       "  <tbody>\n",
       "    <tr>\n",
       "      <th>count</th>\n",
       "      <td>1470</td>\n",
       "      <td>1470</td>\n",
       "      <td>1470</td>\n",
       "      <td>1470</td>\n",
       "      <td>1470</td>\n",
       "      <td>1470</td>\n",
       "      <td>1470</td>\n",
       "      <td>1470</td>\n",
       "      <td>1470</td>\n",
       "    </tr>\n",
       "    <tr>\n",
       "      <th>unique</th>\n",
       "      <td>2</td>\n",
       "      <td>3</td>\n",
       "      <td>3</td>\n",
       "      <td>6</td>\n",
       "      <td>2</td>\n",
       "      <td>9</td>\n",
       "      <td>3</td>\n",
       "      <td>1</td>\n",
       "      <td>2</td>\n",
       "    </tr>\n",
       "    <tr>\n",
       "      <th>top</th>\n",
       "      <td>No</td>\n",
       "      <td>Travel_Rarely</td>\n",
       "      <td>Research &amp; Development</td>\n",
       "      <td>Life Sciences</td>\n",
       "      <td>Male</td>\n",
       "      <td>Sales Executive</td>\n",
       "      <td>Married</td>\n",
       "      <td>Y</td>\n",
       "      <td>No</td>\n",
       "    </tr>\n",
       "    <tr>\n",
       "      <th>freq</th>\n",
       "      <td>1233</td>\n",
       "      <td>1043</td>\n",
       "      <td>961</td>\n",
       "      <td>606</td>\n",
       "      <td>882</td>\n",
       "      <td>326</td>\n",
       "      <td>673</td>\n",
       "      <td>1470</td>\n",
       "      <td>1054</td>\n",
       "    </tr>\n",
       "  </tbody>\n",
       "</table>\n",
       "</div>"
      ],
      "text/plain": [
       "       Attrition BusinessTravel              Department EducationField Gender  \\\n",
       "count       1470           1470                    1470           1470   1470   \n",
       "unique         2              3                       3              6      2   \n",
       "top           No  Travel_Rarely  Research & Development  Life Sciences   Male   \n",
       "freq        1233           1043                     961            606    882   \n",
       "\n",
       "                JobRole MaritalStatus Over18 OverTime  \n",
       "count              1470          1470   1470     1470  \n",
       "unique                9             3      1        2  \n",
       "top     Sales Executive       Married      Y       No  \n",
       "freq                326           673   1470     1054  "
      ]
     },
     "execution_count": 4,
     "metadata": {},
     "output_type": "execute_result"
    }
   ],
   "source": [
    "cat_cols = []\n",
    "num_cols = []\n",
    "\n",
    "for col in df.columns:\n",
    "    if df[col].dtype in ['float64', 'int64']:\n",
    "        num_cols.append(col)\n",
    "    else:\n",
    "        cat_cols.append(col)\n",
    "\n",
    "df[cat_cols].describe()"
   ]
  },
  {
   "cell_type": "code",
   "execution_count": 5,
   "id": "transsexual-bruce",
   "metadata": {},
   "outputs": [
    {
     "data": {
      "text/html": [
       "<div>\n",
       "<style scoped>\n",
       "    .dataframe tbody tr th:only-of-type {\n",
       "        vertical-align: middle;\n",
       "    }\n",
       "\n",
       "    .dataframe tbody tr th {\n",
       "        vertical-align: top;\n",
       "    }\n",
       "\n",
       "    .dataframe thead th {\n",
       "        text-align: right;\n",
       "    }\n",
       "</style>\n",
       "<table border=\"1\" class=\"dataframe\">\n",
       "  <thead>\n",
       "    <tr style=\"text-align: right;\">\n",
       "      <th></th>\n",
       "      <th>Age</th>\n",
       "      <th>DailyRate</th>\n",
       "      <th>DistanceFromHome</th>\n",
       "      <th>Education</th>\n",
       "      <th>EmployeeCount</th>\n",
       "      <th>EmployeeNumber</th>\n",
       "      <th>EnvironmentSatisfaction</th>\n",
       "      <th>HourlyRate</th>\n",
       "      <th>JobInvolvement</th>\n",
       "      <th>JobLevel</th>\n",
       "      <th>...</th>\n",
       "      <th>RelationshipSatisfaction</th>\n",
       "      <th>StandardHours</th>\n",
       "      <th>StockOptionLevel</th>\n",
       "      <th>TotalWorkingYears</th>\n",
       "      <th>TrainingTimesLastYear</th>\n",
       "      <th>WorkLifeBalance</th>\n",
       "      <th>YearsAtCompany</th>\n",
       "      <th>YearsInCurrentRole</th>\n",
       "      <th>YearsSinceLastPromotion</th>\n",
       "      <th>YearsWithCurrManager</th>\n",
       "    </tr>\n",
       "  </thead>\n",
       "  <tbody>\n",
       "    <tr>\n",
       "      <th>count</th>\n",
       "      <td>1470.000000</td>\n",
       "      <td>1470.000000</td>\n",
       "      <td>1470.000000</td>\n",
       "      <td>1470.000000</td>\n",
       "      <td>1470.0</td>\n",
       "      <td>1470.000000</td>\n",
       "      <td>1470.000000</td>\n",
       "      <td>1470.000000</td>\n",
       "      <td>1470.000000</td>\n",
       "      <td>1470.000000</td>\n",
       "      <td>...</td>\n",
       "      <td>1470.000000</td>\n",
       "      <td>1470.0</td>\n",
       "      <td>1470.000000</td>\n",
       "      <td>1470.000000</td>\n",
       "      <td>1470.000000</td>\n",
       "      <td>1470.000000</td>\n",
       "      <td>1470.000000</td>\n",
       "      <td>1470.000000</td>\n",
       "      <td>1470.000000</td>\n",
       "      <td>1470.000000</td>\n",
       "    </tr>\n",
       "    <tr>\n",
       "      <th>mean</th>\n",
       "      <td>36.923810</td>\n",
       "      <td>802.485714</td>\n",
       "      <td>9.192517</td>\n",
       "      <td>2.912925</td>\n",
       "      <td>1.0</td>\n",
       "      <td>1024.865306</td>\n",
       "      <td>2.721769</td>\n",
       "      <td>65.891156</td>\n",
       "      <td>2.729932</td>\n",
       "      <td>2.063946</td>\n",
       "      <td>...</td>\n",
       "      <td>2.712245</td>\n",
       "      <td>80.0</td>\n",
       "      <td>0.793878</td>\n",
       "      <td>11.279592</td>\n",
       "      <td>2.799320</td>\n",
       "      <td>2.761224</td>\n",
       "      <td>7.008163</td>\n",
       "      <td>4.229252</td>\n",
       "      <td>2.187755</td>\n",
       "      <td>4.123129</td>\n",
       "    </tr>\n",
       "    <tr>\n",
       "      <th>std</th>\n",
       "      <td>9.135373</td>\n",
       "      <td>403.509100</td>\n",
       "      <td>8.106864</td>\n",
       "      <td>1.024165</td>\n",
       "      <td>0.0</td>\n",
       "      <td>602.024335</td>\n",
       "      <td>1.093082</td>\n",
       "      <td>20.329428</td>\n",
       "      <td>0.711561</td>\n",
       "      <td>1.106940</td>\n",
       "      <td>...</td>\n",
       "      <td>1.081209</td>\n",
       "      <td>0.0</td>\n",
       "      <td>0.852077</td>\n",
       "      <td>7.780782</td>\n",
       "      <td>1.289271</td>\n",
       "      <td>0.706476</td>\n",
       "      <td>6.126525</td>\n",
       "      <td>3.623137</td>\n",
       "      <td>3.222430</td>\n",
       "      <td>3.568136</td>\n",
       "    </tr>\n",
       "    <tr>\n",
       "      <th>min</th>\n",
       "      <td>18.000000</td>\n",
       "      <td>102.000000</td>\n",
       "      <td>1.000000</td>\n",
       "      <td>1.000000</td>\n",
       "      <td>1.0</td>\n",
       "      <td>1.000000</td>\n",
       "      <td>1.000000</td>\n",
       "      <td>30.000000</td>\n",
       "      <td>1.000000</td>\n",
       "      <td>1.000000</td>\n",
       "      <td>...</td>\n",
       "      <td>1.000000</td>\n",
       "      <td>80.0</td>\n",
       "      <td>0.000000</td>\n",
       "      <td>0.000000</td>\n",
       "      <td>0.000000</td>\n",
       "      <td>1.000000</td>\n",
       "      <td>0.000000</td>\n",
       "      <td>0.000000</td>\n",
       "      <td>0.000000</td>\n",
       "      <td>0.000000</td>\n",
       "    </tr>\n",
       "    <tr>\n",
       "      <th>25%</th>\n",
       "      <td>30.000000</td>\n",
       "      <td>465.000000</td>\n",
       "      <td>2.000000</td>\n",
       "      <td>2.000000</td>\n",
       "      <td>1.0</td>\n",
       "      <td>491.250000</td>\n",
       "      <td>2.000000</td>\n",
       "      <td>48.000000</td>\n",
       "      <td>2.000000</td>\n",
       "      <td>1.000000</td>\n",
       "      <td>...</td>\n",
       "      <td>2.000000</td>\n",
       "      <td>80.0</td>\n",
       "      <td>0.000000</td>\n",
       "      <td>6.000000</td>\n",
       "      <td>2.000000</td>\n",
       "      <td>2.000000</td>\n",
       "      <td>3.000000</td>\n",
       "      <td>2.000000</td>\n",
       "      <td>0.000000</td>\n",
       "      <td>2.000000</td>\n",
       "    </tr>\n",
       "    <tr>\n",
       "      <th>50%</th>\n",
       "      <td>36.000000</td>\n",
       "      <td>802.000000</td>\n",
       "      <td>7.000000</td>\n",
       "      <td>3.000000</td>\n",
       "      <td>1.0</td>\n",
       "      <td>1020.500000</td>\n",
       "      <td>3.000000</td>\n",
       "      <td>66.000000</td>\n",
       "      <td>3.000000</td>\n",
       "      <td>2.000000</td>\n",
       "      <td>...</td>\n",
       "      <td>3.000000</td>\n",
       "      <td>80.0</td>\n",
       "      <td>1.000000</td>\n",
       "      <td>10.000000</td>\n",
       "      <td>3.000000</td>\n",
       "      <td>3.000000</td>\n",
       "      <td>5.000000</td>\n",
       "      <td>3.000000</td>\n",
       "      <td>1.000000</td>\n",
       "      <td>3.000000</td>\n",
       "    </tr>\n",
       "    <tr>\n",
       "      <th>75%</th>\n",
       "      <td>43.000000</td>\n",
       "      <td>1157.000000</td>\n",
       "      <td>14.000000</td>\n",
       "      <td>4.000000</td>\n",
       "      <td>1.0</td>\n",
       "      <td>1555.750000</td>\n",
       "      <td>4.000000</td>\n",
       "      <td>83.750000</td>\n",
       "      <td>3.000000</td>\n",
       "      <td>3.000000</td>\n",
       "      <td>...</td>\n",
       "      <td>4.000000</td>\n",
       "      <td>80.0</td>\n",
       "      <td>1.000000</td>\n",
       "      <td>15.000000</td>\n",
       "      <td>3.000000</td>\n",
       "      <td>3.000000</td>\n",
       "      <td>9.000000</td>\n",
       "      <td>7.000000</td>\n",
       "      <td>3.000000</td>\n",
       "      <td>7.000000</td>\n",
       "    </tr>\n",
       "    <tr>\n",
       "      <th>max</th>\n",
       "      <td>60.000000</td>\n",
       "      <td>1499.000000</td>\n",
       "      <td>29.000000</td>\n",
       "      <td>5.000000</td>\n",
       "      <td>1.0</td>\n",
       "      <td>2068.000000</td>\n",
       "      <td>4.000000</td>\n",
       "      <td>100.000000</td>\n",
       "      <td>4.000000</td>\n",
       "      <td>5.000000</td>\n",
       "      <td>...</td>\n",
       "      <td>4.000000</td>\n",
       "      <td>80.0</td>\n",
       "      <td>3.000000</td>\n",
       "      <td>40.000000</td>\n",
       "      <td>6.000000</td>\n",
       "      <td>4.000000</td>\n",
       "      <td>40.000000</td>\n",
       "      <td>18.000000</td>\n",
       "      <td>15.000000</td>\n",
       "      <td>17.000000</td>\n",
       "    </tr>\n",
       "  </tbody>\n",
       "</table>\n",
       "<p>8 rows × 26 columns</p>\n",
       "</div>"
      ],
      "text/plain": [
       "               Age    DailyRate  DistanceFromHome    Education  EmployeeCount  \\\n",
       "count  1470.000000  1470.000000       1470.000000  1470.000000         1470.0   \n",
       "mean     36.923810   802.485714          9.192517     2.912925            1.0   \n",
       "std       9.135373   403.509100          8.106864     1.024165            0.0   \n",
       "min      18.000000   102.000000          1.000000     1.000000            1.0   \n",
       "25%      30.000000   465.000000          2.000000     2.000000            1.0   \n",
       "50%      36.000000   802.000000          7.000000     3.000000            1.0   \n",
       "75%      43.000000  1157.000000         14.000000     4.000000            1.0   \n",
       "max      60.000000  1499.000000         29.000000     5.000000            1.0   \n",
       "\n",
       "       EmployeeNumber  EnvironmentSatisfaction   HourlyRate  JobInvolvement  \\\n",
       "count     1470.000000              1470.000000  1470.000000     1470.000000   \n",
       "mean      1024.865306                 2.721769    65.891156        2.729932   \n",
       "std        602.024335                 1.093082    20.329428        0.711561   \n",
       "min          1.000000                 1.000000    30.000000        1.000000   \n",
       "25%        491.250000                 2.000000    48.000000        2.000000   \n",
       "50%       1020.500000                 3.000000    66.000000        3.000000   \n",
       "75%       1555.750000                 4.000000    83.750000        3.000000   \n",
       "max       2068.000000                 4.000000   100.000000        4.000000   \n",
       "\n",
       "          JobLevel  ...  RelationshipSatisfaction  StandardHours  \\\n",
       "count  1470.000000  ...               1470.000000         1470.0   \n",
       "mean      2.063946  ...                  2.712245           80.0   \n",
       "std       1.106940  ...                  1.081209            0.0   \n",
       "min       1.000000  ...                  1.000000           80.0   \n",
       "25%       1.000000  ...                  2.000000           80.0   \n",
       "50%       2.000000  ...                  3.000000           80.0   \n",
       "75%       3.000000  ...                  4.000000           80.0   \n",
       "max       5.000000  ...                  4.000000           80.0   \n",
       "\n",
       "       StockOptionLevel  TotalWorkingYears  TrainingTimesLastYear  \\\n",
       "count       1470.000000        1470.000000            1470.000000   \n",
       "mean           0.793878          11.279592               2.799320   \n",
       "std            0.852077           7.780782               1.289271   \n",
       "min            0.000000           0.000000               0.000000   \n",
       "25%            0.000000           6.000000               2.000000   \n",
       "50%            1.000000          10.000000               3.000000   \n",
       "75%            1.000000          15.000000               3.000000   \n",
       "max            3.000000          40.000000               6.000000   \n",
       "\n",
       "       WorkLifeBalance  YearsAtCompany  YearsInCurrentRole  \\\n",
       "count      1470.000000     1470.000000         1470.000000   \n",
       "mean          2.761224        7.008163            4.229252   \n",
       "std           0.706476        6.126525            3.623137   \n",
       "min           1.000000        0.000000            0.000000   \n",
       "25%           2.000000        3.000000            2.000000   \n",
       "50%           3.000000        5.000000            3.000000   \n",
       "75%           3.000000        9.000000            7.000000   \n",
       "max           4.000000       40.000000           18.000000   \n",
       "\n",
       "       YearsSinceLastPromotion  YearsWithCurrManager  \n",
       "count              1470.000000           1470.000000  \n",
       "mean                  2.187755              4.123129  \n",
       "std                   3.222430              3.568136  \n",
       "min                   0.000000              0.000000  \n",
       "25%                   0.000000              2.000000  \n",
       "50%                   1.000000              3.000000  \n",
       "75%                   3.000000              7.000000  \n",
       "max                  15.000000             17.000000  \n",
       "\n",
       "[8 rows x 26 columns]"
      ]
     },
     "execution_count": 5,
     "metadata": {},
     "output_type": "execute_result"
    }
   ],
   "source": [
    "df[num_cols].describe()"
   ]
  },
  {
   "cell_type": "code",
   "execution_count": 6,
   "id": "civil-edwards",
   "metadata": {},
   "outputs": [],
   "source": [
    "#removing meaningless columns and converting Attrition to 1/0 fomr yes/no\n",
    "\n",
    "df.drop(columns = ['Over18', 'EmployeeNumber', 'EmployeeCount', 'StandardHours'], axis=1, inplace = True)\n",
    "df['Attrition'] = df['Attrition'].map({'Yes':1, 'No':0})"
   ]
  },
  {
   "cell_type": "code",
   "execution_count": 7,
   "id": "cooperative-poverty",
   "metadata": {},
   "outputs": [
    {
     "name": "stdout",
     "output_type": "stream",
     "text": [
      "0    0.838776\n",
      "1    0.161224\n",
      "Name: Attrition, dtype: float64\n"
     ]
    },
    {
     "data": {
      "text/plain": [
       "Text(0.5, 1.0, 'Attrition')"
      ]
     },
     "execution_count": 7,
     "metadata": {},
     "output_type": "execute_result"
    },
    {
     "data": {
      "image/png": "[encoded data removed]",
      "text/plain": [
       "<Figure size 432x288 with 1 Axes>"
      ]
     },
     "metadata": {
      "needs_background": "light"
     },
     "output_type": "display_data"
    }
   ],
   "source": [
    "#Let's look at our target variable\n",
    "print(df['Attrition'].value_counts(normalize=True))\n",
    "sns.countplot(df['Attrition'])\n",
    "plt.title(\"Attrition\",fontsize=15)"
   ]
  },
  {
   "cell_type": "markdown",
   "id": "innocent-drove",
   "metadata": {},
   "source": [
    "So we're looking at only 16% of the employees in this dataset actually leaving the company."
   ]
  },
  {
   "cell_type": "markdown",
   "id": "dangerous-requirement",
   "metadata": {},
   "source": [
    "## Data Visualization"
   ]
  },
  {
   "cell_type": "markdown",
   "id": "dominican-forge",
   "metadata": {},
   "source": [
    "### First, attrition by Job Role"
   ]
  },
  {
   "cell_type": "code",
   "execution_count": 8,
   "id": "abstract-financing",
   "metadata": {},
   "outputs": [],
   "source": [
    "def percent_attrition_df(feature):\n",
    "    labels = list(df[feature].unique())\n",
    "\n",
    "    attrition = df.groupby(df[feature])['Attrition'].sum()\n",
    "    no_attrition = df[feature].value_counts() - df.groupby(df[feature])['Attrition'].sum()\n",
    "\n",
    "    feature_attrition = pd.DataFrame(attrition)\n",
    "    feature_no_attrition = pd.DataFrame(no_attrition)\n",
    "    feature_no_attrition.rename(columns = {0: 'no_attrition'}, inplace = True)\n",
    "    feature_df = feature_attrition.join(feature_no_attrition)\n",
    "\n",
    "    feature_df['%_Attrition'] = feature_df['Attrition'] / feature_df['no_attrition']\n",
    "    \n",
    "    return feature_df"
   ]
  },
  {
   "cell_type": "code",
   "execution_count": 9,
   "id": "social-shore",
   "metadata": {},
   "outputs": [],
   "source": [
    "labels = list(df['JobRole'].unique())\n",
    "\n",
    "attrition = df.groupby(df['JobRole'])['Attrition'].sum()\n",
    "no_attrition = df['JobRole'].value_counts() - df.groupby(df['JobRole'])['Attrition'].sum()\n",
    "\n",
    "job_role_attrition = pd.DataFrame(attrition)\n",
    "job_role_no_attrition = pd.DataFrame(no_attrition)\n",
    "job_role_no_attrition.rename(columns = {0: 'no_attrition'}, inplace = True)\n",
    "job_role_df = job_role_attrition.join(job_role_no_attrition)\n",
    "\n",
    "job_role_df['%_Attrition'] = (job_role_df['Attrition'] / (job_role_df['Attrition'] + job_role_df['no_attrition']))*100"
   ]
  },
  {
   "cell_type": "code",
   "execution_count": 10,
   "id": "processed-sweet",
   "metadata": {},
   "outputs": [],
   "source": [
    "def attrition_charts(labels, attrition_feature, no_attrition_feature, feature_df, feature):\n",
    "\n",
    "    fig, ax = plt.subplots(nrows=1, ncols=2, figsize=(10, 10))\n",
    "\n",
    "    ax[0].bar(labels, no_attrition_feature, label = 'No')\n",
    "    ax[0].bar(labels, attrition_feature, bottom=no_attrition_feature, label = 'Yes')\n",
    "\n",
    "    for rect in ax[0].patches:\n",
    "        # Find where everything is located\n",
    "        height = rect.get_height()\n",
    "        width = rect.get_width()\n",
    "        x = rect.get_x()\n",
    "        y = rect.get_y()\n",
    "    \n",
    "        # The height of the bar is the data value and can be used as the label\n",
    "        label_text = f'{height}'  # f'{height:.2f}' to format decimal values\n",
    "    \n",
    "        # ax.text(x, y, text)\n",
    "        label_x = x + width / 2\n",
    "        label_y = y + height / 2\n",
    "\n",
    "        # plot only when height is greater than specified value\n",
    "        if height > 0:\n",
    "            ax[0].text(label_x, label_y, label_text, ha='center', va='center', fontsize=8)\n",
    "\n",
    "\n",
    "    ax[0].set_ylabel('Num Employees')\n",
    "    ax[0].set_title('Attrition by' + ' ' + feature)\n",
    "    ax[0].set_xticklabels(labels, rotation=90)\n",
    "    ax[0].legend()\n",
    "    \n",
    "    labels_ = feature_df.index.tolist()\n",
    "\n",
    "    ax[1].bar(labels_, feature_df['%_Attrition'])\n",
    "    ax[1].set_ylabel('% Employees')\n",
    "    ax[1].set_title('Attrition Rate by' + ' ' + feature)\n",
    "    ax[1].set_xticklabels(labels_, rotation=90)\n",
    "\n",
    "    plt.show()"
   ]
  },
  {
   "cell_type": "code",
   "execution_count": 11,
   "id": "experienced-telescope",
   "metadata": {
    "scrolled": false
   },
   "outputs": [
    {
     "data": {
      "image/png": "[encoded data removed]",
      "text/plain": [
       "<Figure size 720x720 with 2 Axes>"
      ]
     },
     "metadata": {
      "needs_background": "light"
     },
     "output_type": "display_data"
    }
   ],
   "source": [
    "attrition_charts(labels, attrition, no_attrition, job_role_df, 'JobRole')"
   ]
  },
  {
   "cell_type": "markdown",
   "id": "qualified-climb",
   "metadata": {},
   "source": [
    "We see above that Sales Reps, HR employees, and Lab techs have the highest attrition rates. Below, we see that Sales Reps, Lab techs, and HR employees occupy 3 of the 4 lowest paid groups by monthly income."
   ]
  },
  {
   "cell_type": "code",
   "execution_count": 12,
   "id": "hollow-stress",
   "metadata": {},
   "outputs": [
    {
     "data": {
      "text/plain": [
       "JobRole\n",
       "Sales Representative          2626.000000\n",
       "Laboratory Technician         3237.169884\n",
       "Research Scientist            3239.972603\n",
       "Human Resources               4235.750000\n",
       "Sales Executive               6924.279141\n",
       "Manufacturing Director        7295.137931\n",
       "Healthcare Representative     7528.763359\n",
       "Research Director            16033.550000\n",
       "Manager                      17181.676471\n",
       "Name: MonthlyIncome, dtype: float64"
      ]
     },
     "execution_count": 12,
     "metadata": {},
     "output_type": "execute_result"
    }
   ],
   "source": [
    "df_income = df.groupby(df['JobRole'])['MonthlyIncome'].mean()\n",
    "df_income.sort_values()"
   ]
  },
  {
   "cell_type": "markdown",
   "id": "joined-strategy",
   "metadata": {},
   "source": [
    "### Attrition by Monthly Income"
   ]
  },
  {
   "cell_type": "code",
   "execution_count": 13,
   "id": "moral-fishing",
   "metadata": {},
   "outputs": [],
   "source": [
    "rate_bins = pd.cut(df['MonthlyIncome'], bins = 8, labels = ['1000-3375', '3376-5750', \n",
    "                                                            '5751-8125', '8126-10500', \n",
    "                                                            '10501-12875', '12875-15250', \n",
    "                                                            '15251-17625', '17625-20000'])\n",
    "df['MonthlyIncome_cut'] = rate_bins\n",
    "\n",
    "labels = df['MonthlyIncome_cut'].cat.categories\n",
    "ind = np.array([x for x, _ in enumerate(labels)])\n",
    "\n",
    "attrition = df.groupby(df['MonthlyIncome_cut'])['Attrition'].sum()\n",
    "no_attrition = df['MonthlyIncome_cut'].value_counts() - df.groupby(df['MonthlyIncome_cut'])['Attrition'].sum()"
   ]
  },
  {
   "cell_type": "code",
   "execution_count": 14,
   "id": "becoming-brunswick",
   "metadata": {},
   "outputs": [
    {
     "data": {
      "text/html": [
       "<div>\n",
       "<style scoped>\n",
       "    .dataframe tbody tr th:only-of-type {\n",
       "        vertical-align: middle;\n",
       "    }\n",
       "\n",
       "    .dataframe tbody tr th {\n",
       "        vertical-align: top;\n",
       "    }\n",
       "\n",
       "    .dataframe thead th {\n",
       "        text-align: right;\n",
       "    }\n",
       "</style>\n",
       "<table border=\"1\" class=\"dataframe\">\n",
       "  <thead>\n",
       "    <tr style=\"text-align: right;\">\n",
       "      <th></th>\n",
       "      <th>Attrition</th>\n",
       "      <th>no_attrition</th>\n",
       "      <th>%_Attrition</th>\n",
       "    </tr>\n",
       "    <tr>\n",
       "      <th>MonthlyIncome_cut</th>\n",
       "      <th></th>\n",
       "      <th></th>\n",
       "      <th></th>\n",
       "    </tr>\n",
       "  </thead>\n",
       "  <tbody>\n",
       "    <tr>\n",
       "      <th>1000-3375</th>\n",
       "      <td>121</td>\n",
       "      <td>327</td>\n",
       "      <td>27.008929</td>\n",
       "    </tr>\n",
       "    <tr>\n",
       "      <th>3376-5750</th>\n",
       "      <td>53</td>\n",
       "      <td>384</td>\n",
       "      <td>12.128146</td>\n",
       "    </tr>\n",
       "    <tr>\n",
       "      <th>5751-8125</th>\n",
       "      <td>23</td>\n",
       "      <td>186</td>\n",
       "      <td>11.004785</td>\n",
       "    </tr>\n",
       "    <tr>\n",
       "      <th>8126-10500</th>\n",
       "      <td>25</td>\n",
       "      <td>104</td>\n",
       "      <td>19.379845</td>\n",
       "    </tr>\n",
       "    <tr>\n",
       "      <th>10501-12875</th>\n",
       "      <td>5</td>\n",
       "      <td>55</td>\n",
       "      <td>8.333333</td>\n",
       "    </tr>\n",
       "    <tr>\n",
       "      <th>12875-15250</th>\n",
       "      <td>5</td>\n",
       "      <td>50</td>\n",
       "      <td>9.090909</td>\n",
       "    </tr>\n",
       "    <tr>\n",
       "      <th>15251-17625</th>\n",
       "      <td>0</td>\n",
       "      <td>54</td>\n",
       "      <td>0.000000</td>\n",
       "    </tr>\n",
       "    <tr>\n",
       "      <th>17625-20000</th>\n",
       "      <td>5</td>\n",
       "      <td>73</td>\n",
       "      <td>6.410256</td>\n",
       "    </tr>\n",
       "  </tbody>\n",
       "</table>\n",
       "</div>"
      ],
      "text/plain": [
       "                   Attrition  no_attrition  %_Attrition\n",
       "MonthlyIncome_cut                                      \n",
       "1000-3375                121           327    27.008929\n",
       "3376-5750                 53           384    12.128146\n",
       "5751-8125                 23           186    11.004785\n",
       "8126-10500                25           104    19.379845\n",
       "10501-12875                5            55     8.333333\n",
       "12875-15250                5            50     9.090909\n",
       "15251-17625                0            54     0.000000\n",
       "17625-20000                5            73     6.410256"
      ]
     },
     "execution_count": 14,
     "metadata": {},
     "output_type": "execute_result"
    }
   ],
   "source": [
    "monthly_income_attrition = pd.DataFrame(attrition)\n",
    "monthly_income_no_attrition = pd.DataFrame(no_attrition)\n",
    "monthly_income_no_attrition.rename(columns = {0: 'no_attrition'}, inplace = True)\n",
    "\n",
    "monthly_income_df = monthly_income_attrition.join(monthly_income_no_attrition)\n",
    "\n",
    "monthly_income_df['%_Attrition'] = (monthly_income_df['Attrition'] / (monthly_income_df['Attrition'] + \n",
    "                                    monthly_income_df['no_attrition']))*100\n",
    "monthly_income_df"
   ]
  },
  {
   "cell_type": "code",
   "execution_count": 15,
   "id": "mediterranean-matthew",
   "metadata": {},
   "outputs": [
    {
     "data": {
      "image/png": "[encoded data removed]",
      "text/plain": [
       "<Figure size 720x720 with 2 Axes>"
      ]
     },
     "metadata": {
      "needs_background": "light"
     },
     "output_type": "display_data"
    }
   ],
   "source": [
    "attrition_charts(labels, attrition, no_attrition, monthly_income_df, 'MonthlyIncome')"
   ]
  },
  {
   "cell_type": "markdown",
   "id": "center-royal",
   "metadata": {},
   "source": [
    "We see that mainly people on the lower end of monthly income are those most likely to leave. This makes sense because salary isn't tying them as much to their current job, and one of the most efficient ways of getting a raise is to change jobs. It's likely they aren't as happy as higher paid employees:"
   ]
  },
  {
   "cell_type": "code",
   "execution_count": 16,
   "id": "national-lecture",
   "metadata": {
    "scrolled": true
   },
   "outputs": [
    {
     "data": {
      "text/plain": [
       "RelationshipSatisfaction\n",
       "1    6177.793478\n",
       "3    6543.773420\n",
       "2    6596.983498\n",
       "4    6601.296296\n",
       "Name: MonthlyIncome, dtype: float64"
      ]
     },
     "execution_count": 16,
     "metadata": {},
     "output_type": "execute_result"
    }
   ],
   "source": [
    "df_income = df.groupby(df['RelationshipSatisfaction'])['MonthlyIncome'].mean()\n",
    "df_income.sort_values()"
   ]
  },
  {
   "cell_type": "markdown",
   "id": "correct-princess",
   "metadata": {},
   "source": [
    "The lowest earners on average are also least satisfied with their relationships at work."
   ]
  },
  {
   "cell_type": "markdown",
   "id": "commercial-convertible",
   "metadata": {},
   "source": [
    "### Attrition by Age"
   ]
  },
  {
   "cell_type": "code",
   "execution_count": 17,
   "id": "rubber-synthetic",
   "metadata": {},
   "outputs": [],
   "source": [
    "age_bins = pd.cut(df['Age'], bins = 7, labels = ['18-24', '24-30', '30-36', '36-42', '42-48', '48-54', '54-60'])\n",
    "df['age_cut'] = age_bins\n",
    "\n",
    "labels = df['age_cut'].cat.categories\n",
    "ind = np.array([x for x, _ in enumerate(labels)])\n",
    "\n",
    "attrition = df.groupby(df['age_cut'])['Attrition'].sum()\n",
    "no_attrition = df['age_cut'].value_counts() - df.groupby(df['age_cut'])['Attrition'].sum()"
   ]
  },
  {
   "cell_type": "code",
   "execution_count": 18,
   "id": "fewer-purple",
   "metadata": {},
   "outputs": [
    {
     "data": {
      "text/html": [
       "<div>\n",
       "<style scoped>\n",
       "    .dataframe tbody tr th:only-of-type {\n",
       "        vertical-align: middle;\n",
       "    }\n",
       "\n",
       "    .dataframe tbody tr th {\n",
       "        vertical-align: top;\n",
       "    }\n",
       "\n",
       "    .dataframe thead th {\n",
       "        text-align: right;\n",
       "    }\n",
       "</style>\n",
       "<table border=\"1\" class=\"dataframe\">\n",
       "  <thead>\n",
       "    <tr style=\"text-align: right;\">\n",
       "      <th></th>\n",
       "      <th>Attrition</th>\n",
       "      <th>no_attrition</th>\n",
       "      <th>%_Attrition</th>\n",
       "    </tr>\n",
       "    <tr>\n",
       "      <th>age_cut</th>\n",
       "      <th></th>\n",
       "      <th></th>\n",
       "      <th></th>\n",
       "    </tr>\n",
       "  </thead>\n",
       "  <tbody>\n",
       "    <tr>\n",
       "      <th>18-24</th>\n",
       "      <td>38</td>\n",
       "      <td>59</td>\n",
       "      <td>39.175258</td>\n",
       "    </tr>\n",
       "    <tr>\n",
       "      <th>24-30</th>\n",
       "      <td>62</td>\n",
       "      <td>227</td>\n",
       "      <td>21.453287</td>\n",
       "    </tr>\n",
       "    <tr>\n",
       "      <th>30-36</th>\n",
       "      <td>66</td>\n",
       "      <td>346</td>\n",
       "      <td>16.019417</td>\n",
       "    </tr>\n",
       "    <tr>\n",
       "      <th>36-42</th>\n",
       "      <td>27</td>\n",
       "      <td>266</td>\n",
       "      <td>9.215017</td>\n",
       "    </tr>\n",
       "    <tr>\n",
       "      <th>42-48</th>\n",
       "      <td>19</td>\n",
       "      <td>163</td>\n",
       "      <td>10.439560</td>\n",
       "    </tr>\n",
       "    <tr>\n",
       "      <th>48-54</th>\n",
       "      <td>14</td>\n",
       "      <td>114</td>\n",
       "      <td>10.937500</td>\n",
       "    </tr>\n",
       "    <tr>\n",
       "      <th>54-60</th>\n",
       "      <td>11</td>\n",
       "      <td>58</td>\n",
       "      <td>15.942029</td>\n",
       "    </tr>\n",
       "  </tbody>\n",
       "</table>\n",
       "</div>"
      ],
      "text/plain": [
       "         Attrition  no_attrition  %_Attrition\n",
       "age_cut                                      \n",
       "18-24           38            59    39.175258\n",
       "24-30           62           227    21.453287\n",
       "30-36           66           346    16.019417\n",
       "36-42           27           266     9.215017\n",
       "42-48           19           163    10.439560\n",
       "48-54           14           114    10.937500\n",
       "54-60           11            58    15.942029"
      ]
     },
     "execution_count": 18,
     "metadata": {},
     "output_type": "execute_result"
    }
   ],
   "source": [
    "age_attrition = pd.DataFrame(attrition)\n",
    "age_no_attrition = pd.DataFrame(no_attrition)\n",
    "age_no_attrition.rename(columns = {0: 'no_attrition'}, inplace = True)\n",
    "\n",
    "age_df = age_attrition.join(age_no_attrition)\n",
    "\n",
    "age_df['%_Attrition'] = (age_df['Attrition']/(age_df['Attrition'] + age_df['no_attrition']))*100\n",
    "age_df"
   ]
  },
  {
   "cell_type": "code",
   "execution_count": 19,
   "id": "promising-luxembourg",
   "metadata": {},
   "outputs": [
    {
     "data": {
      "image/png": "[encoded data removed]",
      "text/plain": [
       "<Figure size 720x720 with 2 Axes>"
      ]
     },
     "metadata": {
      "needs_background": "light"
     },
     "output_type": "display_data"
    }
   ],
   "source": [
    "attrition_charts(labels, attrition, no_attrition,age_df, 'Age')"
   ]
  },
  {
   "cell_type": "markdown",
   "id": "romantic-rebound",
   "metadata": {},
   "source": [
    "In general, we see that younger workers have the highest attrition rates - the 18-24 group is at nearly 40%. There is normally a higher supply of younger employees, and that age group tends to bounce around more jobs as they figure out what they want to do. They also don't assume as much risk as older employees who might crave the stability to support their families. Attrition rates start to rise again in the 42-48 age bracket. This could be because these employees are more highly paid and when companies are looking to cut costs, they'd go after this segment first. We can also imagine that attrition in the oldest age bracket could be due to retirements."
   ]
  },
  {
   "cell_type": "markdown",
   "id": "promotional-lodge",
   "metadata": {},
   "source": [
    "### Attrition by Education"
   ]
  },
  {
   "cell_type": "code",
   "execution_count": 20,
   "id": "portuguese-lemon",
   "metadata": {
    "scrolled": true
   },
   "outputs": [
    {
     "data": {
      "text/html": [
       "<div>\n",
       "<style scoped>\n",
       "    .dataframe tbody tr th:only-of-type {\n",
       "        vertical-align: middle;\n",
       "    }\n",
       "\n",
       "    .dataframe tbody tr th {\n",
       "        vertical-align: top;\n",
       "    }\n",
       "\n",
       "    .dataframe thead th {\n",
       "        text-align: right;\n",
       "    }\n",
       "</style>\n",
       "<table border=\"1\" class=\"dataframe\">\n",
       "  <thead>\n",
       "    <tr style=\"text-align: right;\">\n",
       "      <th></th>\n",
       "      <th>attrition</th>\n",
       "      <th>no_attrition</th>\n",
       "      <th>%_Attrition</th>\n",
       "    </tr>\n",
       "  </thead>\n",
       "  <tbody>\n",
       "    <tr>\n",
       "      <th>College</th>\n",
       "      <td>5</td>\n",
       "      <td>43</td>\n",
       "      <td>10.416667</td>\n",
       "    </tr>\n",
       "    <tr>\n",
       "      <th>Below_College</th>\n",
       "      <td>31</td>\n",
       "      <td>139</td>\n",
       "      <td>18.235294</td>\n",
       "    </tr>\n",
       "    <tr>\n",
       "      <th>Master</th>\n",
       "      <td>44</td>\n",
       "      <td>238</td>\n",
       "      <td>15.602837</td>\n",
       "    </tr>\n",
       "    <tr>\n",
       "      <th>Bachelor</th>\n",
       "      <td>58</td>\n",
       "      <td>340</td>\n",
       "      <td>14.572864</td>\n",
       "    </tr>\n",
       "    <tr>\n",
       "      <th>Doctor</th>\n",
       "      <td>99</td>\n",
       "      <td>473</td>\n",
       "      <td>17.307692</td>\n",
       "    </tr>\n",
       "  </tbody>\n",
       "</table>\n",
       "</div>"
      ],
      "text/plain": [
       "               attrition  no_attrition  %_Attrition\n",
       "College                5            43    10.416667\n",
       "Below_College         31           139    18.235294\n",
       "Master                44           238    15.602837\n",
       "Bachelor              58           340    14.572864\n",
       "Doctor                99           473    17.307692"
      ]
     },
     "execution_count": 20,
     "metadata": {},
     "output_type": "execute_result"
    }
   ],
   "source": [
    "df['Education'] = df['Education'].map({1: 'Below_College', 2: 'College', 3: 'Bachelor', 4: 'Master', 5: 'Doctor'})\n",
    "labels = list(df['Education'].unique())\n",
    "\n",
    "attrition = sorted(df.groupby(df['Education'])['Attrition'].sum())\n",
    "no_attrition = sorted(df['Education'].value_counts() - df.groupby(df['Education'])['Attrition'].sum())\n",
    "\n",
    "edu_attrition = pd.DataFrame(attrition)\n",
    "edu_attrition.rename(columns = {0: 'attrition'}, inplace = True)\n",
    "edu_no_attrition = pd.DataFrame(no_attrition)\n",
    "edu_no_attrition.rename(columns = {0: 'no_attrition'}, inplace = True)\n",
    "\n",
    "edu_df = edu_attrition.join(edu_no_attrition)\n",
    "\n",
    "edu_df['%_Attrition'] = (edu_df['attrition']/(edu_df['attrition'] + edu_df['no_attrition']))*100\n",
    "edu_df.set_index(df['Education'].unique(), inplace = True)\n",
    "edu_df"
   ]
  },
  {
   "cell_type": "code",
   "execution_count": 21,
   "id": "determined-engagement",
   "metadata": {},
   "outputs": [
    {
     "data": {
      "image/png": "[encoded data removed]",
      "text/plain": [
       "<Figure size 720x720 with 2 Axes>"
      ]
     },
     "metadata": {
      "needs_background": "light"
     },
     "output_type": "display_data"
    }
   ],
   "source": [
    "attrition_charts(labels, attrition, no_attrition, edu_df, 'Education')"
   ]
  },
  {
   "cell_type": "markdown",
   "id": "convenient-combine",
   "metadata": {},
   "source": [
    "Employees without a college degree have the highest attrition rate, but not by much. This likely due to these employees working in less stable jobs and earning less money. There are also high rates among doctorates and master's earners. Perhaps this is due to burnout from working stressful jobs."
   ]
  },
  {
   "cell_type": "markdown",
   "id": "noticed-airplane",
   "metadata": {},
   "source": [
    "### Attrition by distance from home\n"
   ]
  },
  {
   "cell_type": "code",
   "execution_count": 22,
   "id": "hundred-astrology",
   "metadata": {},
   "outputs": [],
   "source": [
    "dist_bins = pd.cut(df['DistanceFromHome'], bins = 4, labels = ['1-7', '8-14', '15-21', '22-29'])\n",
    "df['dist_cut'] = dist_bins\n",
    "\n",
    "labels = df['dist_cut'].cat.categories\n",
    "ind = np.array([x for x, _ in enumerate(labels)])\n",
    "\n",
    "attrition = df.groupby(df['dist_cut'])['Attrition'].sum()\n",
    "no_attrition = df['dist_cut'].value_counts() - df.groupby(df['dist_cut'])['Attrition'].sum()"
   ]
  },
  {
   "cell_type": "code",
   "execution_count": 23,
   "id": "motivated-america",
   "metadata": {},
   "outputs": [
    {
     "data": {
      "text/html": [
       "<div>\n",
       "<style scoped>\n",
       "    .dataframe tbody tr th:only-of-type {\n",
       "        vertical-align: middle;\n",
       "    }\n",
       "\n",
       "    .dataframe tbody tr th {\n",
       "        vertical-align: top;\n",
       "    }\n",
       "\n",
       "    .dataframe thead th {\n",
       "        text-align: right;\n",
       "    }\n",
       "</style>\n",
       "<table border=\"1\" class=\"dataframe\">\n",
       "  <thead>\n",
       "    <tr style=\"text-align: right;\">\n",
       "      <th></th>\n",
       "      <th>Attrition</th>\n",
       "      <th>no_attrition</th>\n",
       "      <th>%_Attrition</th>\n",
       "    </tr>\n",
       "    <tr>\n",
       "      <th>dist_cut</th>\n",
       "      <th></th>\n",
       "      <th></th>\n",
       "      <th></th>\n",
       "    </tr>\n",
       "  </thead>\n",
       "  <tbody>\n",
       "    <tr>\n",
       "      <th>1-7</th>\n",
       "      <td>115</td>\n",
       "      <td>740</td>\n",
       "      <td>13.450292</td>\n",
       "    </tr>\n",
       "    <tr>\n",
       "      <th>8-14</th>\n",
       "      <td>54</td>\n",
       "      <td>232</td>\n",
       "      <td>18.881119</td>\n",
       "    </tr>\n",
       "    <tr>\n",
       "      <th>15-21</th>\n",
       "      <td>32</td>\n",
       "      <td>130</td>\n",
       "      <td>19.753086</td>\n",
       "    </tr>\n",
       "    <tr>\n",
       "      <th>22-29</th>\n",
       "      <td>36</td>\n",
       "      <td>131</td>\n",
       "      <td>21.556886</td>\n",
       "    </tr>\n",
       "  </tbody>\n",
       "</table>\n",
       "</div>"
      ],
      "text/plain": [
       "          Attrition  no_attrition  %_Attrition\n",
       "dist_cut                                      \n",
       "1-7             115           740    13.450292\n",
       "8-14             54           232    18.881119\n",
       "15-21            32           130    19.753086\n",
       "22-29            36           131    21.556886"
      ]
     },
     "execution_count": 23,
     "metadata": {},
     "output_type": "execute_result"
    }
   ],
   "source": [
    "dist_attrition = pd.DataFrame(attrition)\n",
    "dist_no_attrition = pd.DataFrame(no_attrition)\n",
    "dist_no_attrition.rename(columns = {0: 'no_attrition'}, inplace = True)\n",
    "\n",
    "dist_df = dist_attrition.join(dist_no_attrition)\n",
    "\n",
    "dist_df['%_Attrition'] = (dist_df['Attrition']/(dist_df['Attrition'] + dist_df['no_attrition']))*100\n",
    "dist_df"
   ]
  },
  {
   "cell_type": "code",
   "execution_count": 24,
   "id": "hybrid-brunswick",
   "metadata": {},
   "outputs": [
    {
     "data": {
      "image/png": "[encoded data removed]",
      "text/plain": [
       "<Figure size 720x720 with 2 Axes>"
      ]
     },
     "metadata": {
      "needs_background": "light"
     },
     "output_type": "display_data"
    }
   ],
   "source": [
    "attrition_charts(labels, attrition, no_attrition, dist_df, 'DistanceFromHome')"
   ]
  },
  {
   "cell_type": "markdown",
   "id": "whole-hurricane",
   "metadata": {},
   "source": [
    "This breakdown above makes logical sense - people who live far from their office will tire out more quickly with their commute than employees who live closer, leading them to look for other jobs."
   ]
  },
  {
   "cell_type": "markdown",
   "id": "banned-night",
   "metadata": {},
   "source": [
    "### Attrition by total working years"
   ]
  },
  {
   "cell_type": "code",
   "execution_count": 25,
   "id": "brilliant-montreal",
   "metadata": {},
   "outputs": [],
   "source": [
    "years_bins = pd.cut(df['TotalWorkingYears'], bins = 10, labels = ['0-3', '4-7', '8-11', '12-15', '16-19', '20-23', '24-27',\n",
    "                                                                 '28-31', '32-35', '36-40'])\n",
    "\n",
    "df['years_cut'] = years_bins\n",
    "\n",
    "labels = df['years_cut'].cat.categories\n",
    "ind = np.array([x for x, _ in enumerate(labels)])\n",
    "\n",
    "attrition = df.groupby(df['years_cut'])['Attrition'].sum()\n",
    "no_attrition = df['years_cut'].value_counts() - df.groupby(df['years_cut'])['Attrition'].sum()"
   ]
  },
  {
   "cell_type": "code",
   "execution_count": 26,
   "id": "sexual-station",
   "metadata": {},
   "outputs": [
    {
     "data": {
      "text/html": [
       "<div>\n",
       "<style scoped>\n",
       "    .dataframe tbody tr th:only-of-type {\n",
       "        vertical-align: middle;\n",
       "    }\n",
       "\n",
       "    .dataframe tbody tr th {\n",
       "        vertical-align: top;\n",
       "    }\n",
       "\n",
       "    .dataframe thead th {\n",
       "        text-align: right;\n",
       "    }\n",
       "</style>\n",
       "<table border=\"1\" class=\"dataframe\">\n",
       "  <thead>\n",
       "    <tr style=\"text-align: right;\">\n",
       "      <th></th>\n",
       "      <th>Attrition</th>\n",
       "      <th>no_attrition</th>\n",
       "      <th>%_Attrition</th>\n",
       "    </tr>\n",
       "    <tr>\n",
       "      <th>years_cut</th>\n",
       "      <th></th>\n",
       "      <th></th>\n",
       "      <th></th>\n",
       "    </tr>\n",
       "  </thead>\n",
       "  <tbody>\n",
       "    <tr>\n",
       "      <th>0-3</th>\n",
       "      <td>75</td>\n",
       "      <td>153</td>\n",
       "      <td>0.328947</td>\n",
       "    </tr>\n",
       "    <tr>\n",
       "      <th>4-7</th>\n",
       "      <td>72</td>\n",
       "      <td>325</td>\n",
       "      <td>0.181360</td>\n",
       "    </tr>\n",
       "    <tr>\n",
       "      <th>8-11</th>\n",
       "      <td>47</td>\n",
       "      <td>335</td>\n",
       "      <td>0.123037</td>\n",
       "    </tr>\n",
       "    <tr>\n",
       "      <th>12-15</th>\n",
       "      <td>15</td>\n",
       "      <td>129</td>\n",
       "      <td>0.104167</td>\n",
       "    </tr>\n",
       "    <tr>\n",
       "      <th>16-19</th>\n",
       "      <td>12</td>\n",
       "      <td>100</td>\n",
       "      <td>0.107143</td>\n",
       "    </tr>\n",
       "    <tr>\n",
       "      <th>20-23</th>\n",
       "      <td>8</td>\n",
       "      <td>87</td>\n",
       "      <td>0.084211</td>\n",
       "    </tr>\n",
       "    <tr>\n",
       "      <th>24-27</th>\n",
       "      <td>3</td>\n",
       "      <td>46</td>\n",
       "      <td>0.061224</td>\n",
       "    </tr>\n",
       "    <tr>\n",
       "      <th>28-31</th>\n",
       "      <td>1</td>\n",
       "      <td>34</td>\n",
       "      <td>0.028571</td>\n",
       "    </tr>\n",
       "    <tr>\n",
       "      <th>32-35</th>\n",
       "      <td>2</td>\n",
       "      <td>19</td>\n",
       "      <td>0.095238</td>\n",
       "    </tr>\n",
       "    <tr>\n",
       "      <th>36-40</th>\n",
       "      <td>2</td>\n",
       "      <td>5</td>\n",
       "      <td>0.285714</td>\n",
       "    </tr>\n",
       "  </tbody>\n",
       "</table>\n",
       "</div>"
      ],
      "text/plain": [
       "           Attrition  no_attrition  %_Attrition\n",
       "years_cut                                      \n",
       "0-3               75           153     0.328947\n",
       "4-7               72           325     0.181360\n",
       "8-11              47           335     0.123037\n",
       "12-15             15           129     0.104167\n",
       "16-19             12           100     0.107143\n",
       "20-23              8            87     0.084211\n",
       "24-27              3            46     0.061224\n",
       "28-31              1            34     0.028571\n",
       "32-35              2            19     0.095238\n",
       "36-40              2             5     0.285714"
      ]
     },
     "execution_count": 26,
     "metadata": {},
     "output_type": "execute_result"
    }
   ],
   "source": [
    "years_attrition = pd.DataFrame(attrition)\n",
    "years_no_attrition = pd.DataFrame(no_attrition)\n",
    "years_no_attrition.rename(columns = {0: 'no_attrition'}, inplace = True)\n",
    "\n",
    "years_df = years_attrition.join(years_no_attrition)\n",
    "\n",
    "years_df['%_Attrition'] = years_df['Attrition']/(years_df['Attrition'] + years_df['no_attrition'])\n",
    "years_df"
   ]
  },
  {
   "cell_type": "code",
   "execution_count": 27,
   "id": "material-imperial",
   "metadata": {},
   "outputs": [
    {
     "data": {
      "image/png": "[encoded data removed]",
      "text/plain": [
       "<Figure size 720x720 with 2 Axes>"
      ]
     },
     "metadata": {
      "needs_background": "light"
     },
     "output_type": "display_data"
    }
   ],
   "source": [
    "attrition_charts(labels, attrition, no_attrition, years_df, 'TotalWorkingYears')"
   ]
  },
  {
   "cell_type": "markdown",
   "id": "received-processing",
   "metadata": {},
   "source": [
    "Attrition rate decreases consistently as employees work more years until the 32-35 years bin. These employees are likely retiring."
   ]
  },
  {
   "cell_type": "markdown",
   "id": "qualified-commissioner",
   "metadata": {},
   "source": [
    "### Attrition by job satisfaction"
   ]
  },
  {
   "cell_type": "code",
   "execution_count": 28,
   "id": "hairy-arbitration",
   "metadata": {},
   "outputs": [],
   "source": [
    "df['JobSatisfaction'] = df['JobSatisfaction'].map({1:'Low', 2:'Medium', 3: 'High', 4:'Very High'})"
   ]
  },
  {
   "cell_type": "code",
   "execution_count": 29,
   "id": "searching-retention",
   "metadata": {},
   "outputs": [],
   "source": [
    "labels = sorted(list(df['JobSatisfaction'].unique()))\n",
    "\n",
    "attrition = df.groupby(df['JobSatisfaction'])['Attrition'].sum()\n",
    "no_attrition = df['JobSatisfaction'].value_counts() - df.groupby(df['JobSatisfaction'])['Attrition'].sum()"
   ]
  },
  {
   "cell_type": "code",
   "execution_count": 30,
   "id": "placed-kingdom",
   "metadata": {},
   "outputs": [],
   "source": [
    "satisfaction_attrition = pd.DataFrame(attrition)\n",
    "satisfaction_no_attrition = pd.DataFrame(no_attrition)\n",
    "satisfaction_no_attrition.rename(columns = {0: 'no_attrition'}, inplace = True)\n",
    "\n",
    "satisfaction_df = satisfaction_attrition.join(satisfaction_no_attrition)\n",
    "\n",
    "satisfaction_df['%_Attrition'] = satisfaction_df['Attrition']/(satisfaction_df['Attrition'] + satisfaction_df['no_attrition'])\n",
    "satisfaction_df.sort_values(by = 'no_attrition', inplace=True)"
   ]
  },
  {
   "cell_type": "code",
   "execution_count": 31,
   "id": "choice-second",
   "metadata": {},
   "outputs": [
    {
     "data": {
      "image/png": "[encoded data removed]",
      "text/plain": [
       "<Figure size 720x720 with 2 Axes>"
      ]
     },
     "metadata": {
      "needs_background": "light"
     },
     "output_type": "display_data"
    }
   ],
   "source": [
    "attrition_charts(labels, attrition, no_attrition, satisfaction_df, 'JobSatisfaction')"
   ]
  },
  {
   "cell_type": "markdown",
   "id": "spread-scholar",
   "metadata": {},
   "source": [
    "Attrition rate is clearly correlated with how satisfied you are with your job. Employees with low job satisfaction are by far the most likely employees to leave."
   ]
  },
  {
   "cell_type": "markdown",
   "id": "blind-upgrade",
   "metadata": {},
   "source": [
    "# Modeling"
   ]
  },
  {
   "cell_type": "markdown",
   "id": "fancy-professor",
   "metadata": {},
   "source": [
    "We will try a few different models to see which type of classifier best reduces the false negative rate. The first model will be a logistic regression model. These models are highly interpretable (each coefficient corresponds to a probability) and attempt to estimate a linear relationship."
   ]
  },
  {
   "cell_type": "code",
   "execution_count": 32,
   "id": "atmospheric-franchise",
   "metadata": {},
   "outputs": [],
   "source": [
    "df = pd.read_csv('HR_Employee_Attrition.csv')\n",
    "df.drop(columns = ['Over18', 'EmployeeNumber', 'EmployeeCount', 'StandardHours'], axis=1, inplace = True)\n",
    "df['Attrition'] = df['Attrition'].map({'Yes':1, 'No':0})\n",
    "\n",
    "X = df.drop(columns=['Attrition'], axis=1)\n",
    "y = df['Attrition']\n",
    "\n",
    "X_train, X_test, y_train, y_test = train_test_split(X, y, random_state=30)"
   ]
  },
  {
   "cell_type": "code",
   "execution_count": 33,
   "id": "internal-wilderness",
   "metadata": {},
   "outputs": [],
   "source": [
    "ohe_cols = []\n",
    "num_cols = []\n",
    "\n",
    "for col in X.columns:\n",
    "    if X[col].dtype in ['float64', 'int64']:\n",
    "        num_cols.append(col)\n",
    "    else:\n",
    "        ohe_cols.append(col)"
   ]
  },
  {
   "cell_type": "markdown",
   "id": "sexual-creation",
   "metadata": {},
   "source": [
    "### Logistic Regression"
   ]
  },
  {
   "cell_type": "code",
   "execution_count": 34,
   "id": "conditional-pierce",
   "metadata": {},
   "outputs": [],
   "source": [
    "#Set up the preprocessing steps for both types of column. We'll use the MinMax scaler.\n",
    "num_transformer = Pipeline(steps=[\n",
    "    ('scaler', MinMaxScaler())])\n",
    "\n",
    "ohe_transformer = Pipeline(steps=[\n",
    "    ('ohe', OneHotEncoder(handle_unknown='ignore'))])\n",
    "\n",
    "preprocessor = ColumnTransformer(\n",
    "    transformers=[\n",
    "        ('num', num_transformer, num_cols),\n",
    "        ('cat_ohe', ohe_transformer, ohe_cols)])"
   ]
  },
  {
   "cell_type": "code",
   "execution_count": 35,
   "id": "guided-cambodia",
   "metadata": {},
   "outputs": [
    {
     "data": {
      "text/plain": [
       "Pipeline(steps=[('preprocessor',\n",
       "                 ColumnTransformer(transformers=[('num',\n",
       "                                                  Pipeline(steps=[('scaler',\n",
       "                                                                   MinMaxScaler())]),\n",
       "                                                  ['Age', 'DailyRate',\n",
       "                                                   'DistanceFromHome',\n",
       "                                                   'Education',\n",
       "                                                   'EnvironmentSatisfaction',\n",
       "                                                   'HourlyRate',\n",
       "                                                   'JobInvolvement', 'JobLevel',\n",
       "                                                   'JobSatisfaction',\n",
       "                                                   'MonthlyIncome',\n",
       "                                                   'MonthlyRate',\n",
       "                                                   'NumCompaniesWorked',\n",
       "                                                   'PercentSalaryHike',\n",
       "                                                   'PerformanceRating',\n",
       "                                                   'Relation...\n",
       "                                                   'TotalWorkingYears',\n",
       "                                                   'TrainingTimesLastYear',\n",
       "                                                   'WorkLifeBalance',\n",
       "                                                   'YearsAtCompany',\n",
       "                                                   'YearsInCurrentRole',\n",
       "                                                   'YearsSinceLastPromotion',\n",
       "                                                   'YearsWithCurrManager']),\n",
       "                                                 ('cat_ohe',\n",
       "                                                  Pipeline(steps=[('ohe',\n",
       "                                                                   OneHotEncoder(handle_unknown='ignore'))]),\n",
       "                                                  ['BusinessTravel',\n",
       "                                                   'Department',\n",
       "                                                   'EducationField', 'Gender',\n",
       "                                                   'JobRole', 'MaritalStatus',\n",
       "                                                   'OverTime'])])),\n",
       "                ('classifier', LogisticRegression())])"
      ]
     },
     "execution_count": 35,
     "metadata": {},
     "output_type": "execute_result"
    }
   ],
   "source": [
    "# Append classifier to preprocessing pipeline. We're going to start with a baseline regression model\n",
    "\n",
    "clf_logreg = Pipeline(steps=[('preprocessor', preprocessor),\n",
    "                             ('classifier', LogisticRegression())])\n",
    "\n",
    "clf_logreg.fit(X_train, y_train)"
   ]
  },
  {
   "cell_type": "code",
   "execution_count": 36,
   "id": "revolutionary-sending",
   "metadata": {},
   "outputs": [
    {
     "name": "stdout",
     "output_type": "stream",
     "text": [
      "<class 'numpy.ndarray'>\n",
      "Train Scores\n",
      "------------\n",
      "Accuracy: 0.8974591651542649\n",
      "Recall: 0.4431818181818182\n",
      "F1 Score: 0.5799256505576208\n",
      "ROC-AUC: 0.8740121244845866\n",
      "--------------------\n",
      "Test Scores\n",
      "-----------\n",
      "Accuracy: 0.8614130434782609\n",
      "Recall: 0.32786885245901637\n",
      "F1 Score: 0.4395604395604395\n",
      "ROC-AUC: 0.8253324077535109\n"
     ]
    },
    {
     "data": {
      "image/png": "[encoded data removed]",
      "text/plain": [
       "<Figure size 432x288 with 2 Axes>"
      ]
     },
     "metadata": {
      "needs_background": "light"
     },
     "output_type": "display_data"
    }
   ],
   "source": [
    "evaluate(clf_logreg, X_train, X_test, y_train, y_test)"
   ]
  },
  {
   "cell_type": "markdown",
   "id": "touched-bennett",
   "metadata": {},
   "source": [
    "Our baseline model didn't do very well in terms of recall (the metric which indicates we're minimizing our false negatives), and only slightly better than a random guess in terms of accuracy - our class breakdown was 84% in the negative case, so an accuracy of 86% on the test set implies that the model only improved 2 percentage points over a random guess. The model is also quite overfit. Next, we'll tune our parameters using grid search."
   ]
  },
  {
   "cell_type": "code",
   "execution_count": 37,
   "id": "respected-dietary",
   "metadata": {},
   "outputs": [],
   "source": [
    "clf_logreg = Pipeline(steps=[('preprocessor', preprocessor),\n",
    "                             ('classifier', LogisticRegression())])\n",
    "\n",
    "#weights used here to help adjust for the class imbalance\n",
    "#C is an inverse regularization parameter that helps prevent overfitting. The smaller C is, the more the model is penalized\n",
    "param_grid = {'classifier__class_weight': [None, 'balanced', {1:2, 0:1}, {1:10, 0:1}],\n",
    "             'classifier__C': [.1, .5, 1, 100, 1e20],\n",
    "             'classifier__penalty': ['l1', 'l2']}"
   ]
  },
  {
   "cell_type": "code",
   "execution_count": 38,
   "id": "sweet-young",
   "metadata": {},
   "outputs": [
    {
     "data": {
      "text/plain": [
       "GridSearchCV(cv=5,\n",
       "             estimator=Pipeline(steps=[('preprocessor',\n",
       "                                        ColumnTransformer(transformers=[('num',\n",
       "                                                                         Pipeline(steps=[('scaler',\n",
       "                                                                                          MinMaxScaler())]),\n",
       "                                                                         ['Age',\n",
       "                                                                          'DailyRate',\n",
       "                                                                          'DistanceFromHome',\n",
       "                                                                          'Education',\n",
       "                                                                          'EnvironmentSatisfaction',\n",
       "                                                                          'HourlyRate',\n",
       "                                                                          'JobInvolvement',\n",
       "                                                                          'JobLevel',\n",
       "                                                                          'JobSatisfaction',\n",
       "                                                                          'MonthlyIncome',\n",
       "                                                                          'MonthlyRate',\n",
       "                                                                          'NumCompaniesWorked',\n",
       "                                                                          'PercentSalaryHike',\n",
       "                                                                          '...\n",
       "                                                                                          OneHotEncoder(handle_unknown='ignore'))]),\n",
       "                                                                         ['BusinessTravel',\n",
       "                                                                          'Department',\n",
       "                                                                          'EducationField',\n",
       "                                                                          'Gender',\n",
       "                                                                          'JobRole',\n",
       "                                                                          'MaritalStatus',\n",
       "                                                                          'OverTime'])])),\n",
       "                                       ('classifier', LogisticRegression())]),\n",
       "             n_jobs=-1,\n",
       "             param_grid={'classifier__C': [0.1, 0.5, 1, 100, 1e+20],\n",
       "                         'classifier__class_weight': [None, 'balanced',\n",
       "                                                      {0: 1, 1: 2},\n",
       "                                                      {0: 1, 1: 10}],\n",
       "                         'classifier__penalty': ['l1', 'l2']},\n",
       "             scoring='recall')"
      ]
     },
     "execution_count": 38,
     "metadata": {},
     "output_type": "execute_result"
    }
   ],
   "source": [
    "search = GridSearchCV(clf_logreg, param_grid, n_jobs=-1, cv=5, scoring = 'recall') #setting scoring to recall\n",
    "\n",
    "search.fit(X_train, y_train)"
   ]
  },
  {
   "cell_type": "code",
   "execution_count": 39,
   "id": "adjusted-pittsburgh",
   "metadata": {
    "scrolled": false
   },
   "outputs": [
    {
     "name": "stdout",
     "output_type": "stream",
     "text": [
      "<class 'numpy.ndarray'>\n",
      "Train Scores\n",
      "------------\n",
      "Accuracy: 0.662431941923775\n",
      "Recall: 0.9034090909090909\n",
      "F1 Score: 0.4608695652173913\n",
      "ROC-AUC: 0.870938052228549\n",
      "--------------------\n",
      "Test Scores\n",
      "-----------\n",
      "Accuracy: 0.6467391304347826\n",
      "Recall: 0.8360655737704918\n",
      "F1 Score: 0.43965517241379304\n",
      "ROC-AUC: 0.8181235649062851\n"
     ]
    },
    {
     "data": {
      "image/png": "[encoded data removed]",
      "text/plain": [
       "<Figure size 432x288 with 2 Axes>"
      ]
     },
     "metadata": {
      "needs_background": "light"
     },
     "output_type": "display_data"
    }
   ],
   "source": [
    "evaluate(search, X_train, X_test, y_train, y_test)"
   ]
  },
  {
   "cell_type": "code",
   "execution_count": 40,
   "id": "electoral-driver",
   "metadata": {},
   "outputs": [
    {
     "name": "stdout",
     "output_type": "stream",
     "text": [
      "Best parameter's score: 0.846):\n",
      "{'classifier__C': 0.1, 'classifier__class_weight': {1: 10, 0: 1}, 'classifier__penalty': 'l2'}\n"
     ]
    }
   ],
   "source": [
    "print(f\"Best parameter's score: {search.best_score_:0.3f}):\")\n",
    "print(search.best_params_)"
   ]
  },
  {
   "cell_type": "markdown",
   "id": "duplicate-pharmaceutical",
   "metadata": {},
   "source": [
    "This model, with a C value of .1 and class weights of 10:1, resulted in a much better recall score of .84. We see in the above confusion matrix that there are only 10 false negatives (people the model failed to predict leaving the company), 2.7% of predictions. This model appears to be really reliable in figuring out which employees will leave."
   ]
  },
  {
   "cell_type": "markdown",
   "id": "resident-settle",
   "metadata": {},
   "source": [
    "Let's fit a logreg model with these best parameters and get our feature importances."
   ]
  },
  {
   "cell_type": "code",
   "execution_count": 41,
   "id": "religious-companion",
   "metadata": {},
   "outputs": [
    {
     "name": "stdout",
     "output_type": "stream",
     "text": [
      "<class 'numpy.ndarray'>\n",
      "Train Scores\n",
      "------------\n",
      "Accuracy: 0.662431941923775\n",
      "Recall: 0.9034090909090909\n",
      "F1 Score: 0.4608695652173913\n",
      "ROC-AUC: 0.870938052228549\n",
      "--------------------\n",
      "Test Scores\n",
      "-----------\n",
      "Accuracy: 0.6467391304347826\n",
      "Recall: 0.8360655737704918\n",
      "F1 Score: 0.43965517241379304\n",
      "ROC-AUC: 0.8181235649062851\n"
     ]
    },
    {
     "data": {
      "image/png": "[encoded data removed]",
      "text/plain": [
       "<Figure size 432x288 with 2 Axes>"
      ]
     },
     "metadata": {
      "needs_background": "light"
     },
     "output_type": "display_data"
    }
   ],
   "source": [
    "clf_logreg_best = Pipeline(steps=[('preprocessor', preprocessor),\n",
    "                             ('classifier', LogisticRegression(C = .1, class_weight ={1: 10, 0: 1}))])\n",
    "\n",
    "clf_logreg_best.fit(X_train, y_train)\n",
    "\n",
    "evaluate(clf_logreg_best, X_train, X_test, y_train, y_test)"
   ]
  },
  {
   "cell_type": "code",
   "execution_count": 42,
   "id": "velvet-rochester",
   "metadata": {},
   "outputs": [],
   "source": [
    "num_cols_2 = ['Age', 'DailyRate','DistanceFromHome','Education','EnvironmentSatisfaction','HourlyRate','JobInvolvement', \n",
    "              'JobLevel','JobSatisfaction','MonthlyIncome','MonthlyRate','NumCompaniesWorked','PercentSalaryHike',\n",
    "              'PerformanceRating','RelationshipSatisfaction','StockOptionLevel','TotalWorkingYears',\n",
    "              'TrainingTimesLastYear','WorkLifeBalance','YearsAtCompany',\n",
    "                'YearsInCurrentRole','YearsSinceLastPromotion','YearsWithCurrManager']\n",
    "ohe_cols_2 = ['BusinessTravel', 'Department', 'EducationField', 'Gender', 'JobRole', 'MaritalStatus', 'OverTime']\n",
    "X_num = X[num_cols_2]\n",
    "X_ohe = X[ohe_cols_2]\n",
    "X_ohe_processed = pd.get_dummies(X_ohe)\n",
    "X_new = pd.concat([X_num, X_ohe_processed])"
   ]
  },
  {
   "cell_type": "code",
   "execution_count": 43,
   "id": "reserved-luther",
   "metadata": {
    "scrolled": true
   },
   "outputs": [
    {
     "data": {
      "text/plain": [
       "<matplotlib.axes._subplots.AxesSubplot at 0x2a5be582c18>"
      ]
     },
     "execution_count": 43,
     "metadata": {},
     "output_type": "execute_result"
    },
    {
     "data": {
      "image/png": "[encoded data removed]",
      "text/plain": [
       "<Figure size 432x288 with 1 Axes>"
      ]
     },
     "metadata": {
      "needs_background": "light"
     },
     "output_type": "display_data"
    }
   ],
   "source": [
    "#converting to from log odds below using np.exp\n",
    "\n",
    "importance = np.exp(clf_logreg_best.steps[1][1].coef_)\n",
    "importance = importance.reshape(51,)\n",
    "\n",
    "(pd.Series(importance, index=X_new.columns).nlargest(10).plot(kind='barh')) "
   ]
  },
  {
   "cell_type": "markdown",
   "id": "roman-worcester",
   "metadata": {},
   "source": [
    "What this is telling us is that for every additional year someone is not promoted, the odds of them leaving the company triple, holding all else equal. Each feature shown above follows this interpretation. For example, employees who work overtime are more than twice as likely to leave as those who don't."
   ]
  },
  {
   "cell_type": "markdown",
   "id": "piano-gnome",
   "metadata": {},
   "source": [
    "We might not do better than this model, but let's move on to Naive Bayes and see how we do."
   ]
  },
  {
   "cell_type": "markdown",
   "id": "gorgeous-lewis",
   "metadata": {},
   "source": [
    "### Naive Bayes"
   ]
  },
  {
   "cell_type": "markdown",
   "id": "minimal-monday",
   "metadata": {},
   "source": [
    "We'll be using Gaussian Bayes because the predictors are mainly continuous values. We do have some categorical variables which it should also handle fairly well. One issue is that Naive Bayes assumes independence among the features of the model, and there are clear correlations between many of the variables here."
   ]
  },
  {
   "cell_type": "code",
   "execution_count": 44,
   "id": "spoken-wagon",
   "metadata": {},
   "outputs": [
    {
     "data": {
      "text/plain": [
       "Pipeline(steps=[('preprocessor',\n",
       "                 ColumnTransformer(transformers=[('num',\n",
       "                                                  Pipeline(steps=[('scaler',\n",
       "                                                                   MinMaxScaler())]),\n",
       "                                                  ['Age', 'DailyRate',\n",
       "                                                   'DistanceFromHome',\n",
       "                                                   'Education',\n",
       "                                                   'EnvironmentSatisfaction',\n",
       "                                                   'HourlyRate',\n",
       "                                                   'JobInvolvement', 'JobLevel',\n",
       "                                                   'JobSatisfaction',\n",
       "                                                   'MonthlyIncome',\n",
       "                                                   'MonthlyRate',\n",
       "                                                   'NumCompaniesWorked',\n",
       "                                                   'PercentSalaryHike',\n",
       "                                                   'PerformanceRating',\n",
       "                                                   'Relation...\n",
       "                                                   'TotalWorkingYears',\n",
       "                                                   'TrainingTimesLastYear',\n",
       "                                                   'WorkLifeBalance',\n",
       "                                                   'YearsAtCompany',\n",
       "                                                   'YearsInCurrentRole',\n",
       "                                                   'YearsSinceLastPromotion',\n",
       "                                                   'YearsWithCurrManager']),\n",
       "                                                 ('cat_ohe',\n",
       "                                                  Pipeline(steps=[('ohe',\n",
       "                                                                   OneHotEncoder(handle_unknown='ignore'))]),\n",
       "                                                  ['BusinessTravel',\n",
       "                                                   'Department',\n",
       "                                                   'EducationField', 'Gender',\n",
       "                                                   'JobRole', 'MaritalStatus',\n",
       "                                                   'OverTime'])])),\n",
       "                ('classifier', GaussianNB())])"
      ]
     },
     "execution_count": 44,
     "metadata": {},
     "output_type": "execute_result"
    }
   ],
   "source": [
    "clf_gnb = Pipeline(steps=[('preprocessor', preprocessor),\n",
    "                             ('classifier', GaussianNB())])\n",
    "\n",
    "clf_gnb.fit(X_train, y_train)"
   ]
  },
  {
   "cell_type": "code",
   "execution_count": 45,
   "id": "athletic-patch",
   "metadata": {},
   "outputs": [
    {
     "name": "stdout",
     "output_type": "stream",
     "text": [
      "<class 'bool'>\n",
      "Train Scores\n",
      "------------\n",
      "Accuracy: 0.6941923774954628\n",
      "Recall: 0.7670454545454546\n",
      "F1 Score: 0.44481054365733114\n",
      "--------------------\n",
      "Test Scores\n",
      "-----------\n",
      "Accuracy: 0.6820652173913043\n",
      "Recall: 0.639344262295082\n",
      "F1 Score: 0.39999999999999997\n"
     ]
    },
    {
     "data": {
      "image/png": "[encoded data removed]",
      "text/plain": [
       "<Figure size 432x288 with 2 Axes>"
      ]
     },
     "metadata": {
      "needs_background": "light"
     },
     "output_type": "display_data"
    }
   ],
   "source": [
    "evaluate(clf_gnb, X_train, X_test, y_train, y_test, use_decision_function = 'skip')"
   ]
  },
  {
   "cell_type": "markdown",
   "id": "thirty-efficiency",
   "metadata": {},
   "source": [
    "The model has decent recall scores but not as good as what we saw with logistic regression. There aren't really any parameters to tune in a Bayes model, but at the end of this notebook, we'll test the model on log transformed data to see if the scores improve."
   ]
  },
  {
   "cell_type": "markdown",
   "id": "clean-narrative",
   "metadata": {},
   "source": [
    "## Tree-Based Models"
   ]
  },
  {
   "cell_type": "markdown",
   "id": "hungry-quantity",
   "metadata": {},
   "source": [
    "First, we'll try our a basic decision tree. Decision trees are also interpretable. When discussing feature importance in a decision tree, we are talking about which features led to the most learned information when making a decision. So when a tree comes to a node, important features make this decision easier and more accurate.\n",
    "\n",
    "If this model is unsuccessful, we'll skip random forests and move straight to XGBoost. Let's test our recall scores by iterating through various parameters and figure how to tune each one."
   ]
  },
  {
   "cell_type": "code",
   "execution_count": 46,
   "id": "assigned-scheme",
   "metadata": {},
   "outputs": [
    {
     "data": {
      "image/png": "[encoded data removed]",
      "text/plain": [
       "<Figure size 864x432 with 1 Axes>"
      ]
     },
     "metadata": {
      "needs_background": "light"
     },
     "output_type": "display_data"
    }
   ],
   "source": [
    "max_depth = range(1,33)\n",
    "train_results = []\n",
    "test_results = []\n",
    "for m in max_depth:\n",
    "    clf_dt = Pipeline(steps=[('preprocessor', preprocessor),\n",
    "                             ('classifier', DecisionTreeClassifier(criterion = 'entropy', max_depth=m))])\n",
    "\n",
    "    clf_dt.fit(X_train, y_train)\n",
    "#     clf = DecisionTreeClassifier(criterion = 'entropy', max_depth=m, random_state = 1)\n",
    "#     #training data\n",
    "#     clf.fit(X_train, y_train)\n",
    "    y_pred_train = clf_dt.predict(X_train)\n",
    "    recall = recall_score(y_train, y_pred_train)\n",
    "    train_results.append(recall)\n",
    "\n",
    "    #test data\n",
    "    y_pred = clf_dt.predict(X_test)\n",
    "    recall = recall_score(y_test, y_pred)\n",
    "    test_results.append(recall)\n",
    "    \n",
    "plt.figure(figsize=(12,6))\n",
    "plt.plot(max_depth, train_results, 'b', label='Train Recall')\n",
    "plt.plot(max_depth, test_results, 'r', label='Test Recall')\n",
    "plt.ylabel('Recall score')\n",
    "plt.xlabel('Tree depth')\n",
    "plt.legend()\n",
    "plt.show() "
   ]
  },
  {
   "cell_type": "markdown",
   "id": "compatible-reading",
   "metadata": {},
   "source": [
    "Around 6-8 looks right as anymore will lead to serious overfit."
   ]
  },
  {
   "cell_type": "code",
   "execution_count": 47,
   "id": "destroyed-jones",
   "metadata": {},
   "outputs": [
    {
     "data": {
      "image/png": "[encoded data removed]",
      "text/plain": [
       "<Figure size 864x432 with 1 Axes>"
      ]
     },
     "metadata": {
      "needs_background": "light"
     },
     "output_type": "display_data"
    }
   ],
   "source": [
    "min_samples_split = np.linspace(0.1, 1.0, 10, endpoint=True)\n",
    "train_results = []\n",
    "test_results = []\n",
    "for m in min_samples_split:\n",
    "    clf_dt = Pipeline(steps=[('preprocessor', preprocessor),\n",
    "                             ('classifier', DecisionTreeClassifier(criterion = 'entropy', min_samples_split = m))])\n",
    "\n",
    "    clf_dt.fit(X_train, y_train)\n",
    "    y_pred_train = clf_dt.predict(X_train)\n",
    "    recall = recall_score(y_train, y_pred_train)\n",
    "    train_results.append(recall)\n",
    "\n",
    "    #test data\n",
    "    y_pred = clf_dt.predict(X_test)\n",
    "    recall = recall_score(y_test, y_pred)\n",
    "    test_results.append(recall)\n",
    "    \n",
    "plt.figure(figsize=(12,6))\n",
    "plt.plot(min_samples_split, train_results, 'b', label='Train Recall')\n",
    "plt.plot(min_samples_split, test_results, 'r', label='Test Recall')\n",
    "plt.ylabel('Recall score')\n",
    "plt.xlabel('Min Samples Split')\n",
    "plt.legend()\n",
    "plt.show() "
   ]
  },
  {
   "cell_type": "markdown",
   "id": "arbitrary-prior",
   "metadata": {},
   "source": [
    ".1 - .2 for our split is our best bet."
   ]
  },
  {
   "cell_type": "code",
   "execution_count": 48,
   "id": "pleased-arthritis",
   "metadata": {},
   "outputs": [
    {
     "data": {
      "image/png": "[encoded data removed]",
      "text/plain": [
       "<Figure size 864x432 with 1 Axes>"
      ]
     },
     "metadata": {
      "needs_background": "light"
     },
     "output_type": "display_data"
    }
   ],
   "source": [
    "min_samples_leaf = np.linspace(0.1, 0.5, 5, endpoint=True)\n",
    "train_results = []\n",
    "test_results = []\n",
    "for m in min_samples_leaf:\n",
    "    clf_dt = Pipeline(steps=[('preprocessor', preprocessor),\n",
    "                             ('classifier', DecisionTreeClassifier(criterion = 'entropy', min_samples_leaf = m))])\n",
    "\n",
    "    clf_dt.fit(X_train, y_train)\n",
    "    y_pred_train = clf_dt.predict(X_train)\n",
    "    recall = recall_score(y_train, y_pred_train)\n",
    "    train_results.append(recall)\n",
    "\n",
    "    #test data\n",
    "    y_pred = clf_dt.predict(X_test)\n",
    "    recall = recall_score(y_test, y_pred)\n",
    "    test_results.append(recall)\n",
    "    \n",
    "plt.figure(figsize=(12,6))\n",
    "plt.plot(min_samples_leaf, train_results, 'b', label='Train Recall')\n",
    "plt.plot(min_samples_leaf, test_results, 'r', label='Test Recall')\n",
    "plt.ylabel('Recall score')\n",
    "plt.xlabel('min_samples_leaf')\n",
    "plt.legend()\n",
    "plt.show()"
   ]
  },
  {
   "cell_type": "markdown",
   "id": "becoming-dancing",
   "metadata": {},
   "source": [
    ".1-.12"
   ]
  },
  {
   "cell_type": "code",
   "execution_count": 49,
   "id": "adjusted-insider",
   "metadata": {},
   "outputs": [
    {
     "data": {
      "image/png": "[encoded data removed]",
      "text/plain": [
       "<Figure size 864x432 with 1 Axes>"
      ]
     },
     "metadata": {
      "needs_background": "light"
     },
     "output_type": "display_data"
    }
   ],
   "source": [
    "max_features = range(1,30)\n",
    "train_results = []\n",
    "test_results = []\n",
    "for m in max_features:\n",
    "    clf_dt = Pipeline(steps=[('preprocessor', preprocessor),\n",
    "                             ('classifier', DecisionTreeClassifier(criterion = 'entropy', max_features = m))])\n",
    "\n",
    "    clf_dt.fit(X_train, y_train)\n",
    "    y_pred_train = clf_dt.predict(X_train)\n",
    "    recall = recall_score(y_train, y_pred_train)\n",
    "    train_results.append(recall)\n",
    "\n",
    "    #test data\n",
    "    y_pred = clf_dt.predict(X_test)\n",
    "    recall = recall_score(y_test, y_pred)\n",
    "    test_results.append(recall)\n",
    "    \n",
    "plt.figure(figsize=(12,6))\n",
    "plt.plot(max_features, train_results, 'b', label='Train Recall')\n",
    "plt.plot(max_features, test_results, 'r', label='Test Recall')\n",
    "plt.ylabel('Recall score')\n",
    "plt.xlabel('max_features')\n",
    "plt.legend()\n",
    "plt.show() "
   ]
  },
  {
   "cell_type": "markdown",
   "id": "dramatic-gravity",
   "metadata": {},
   "source": [
    "We shouldn't tune with max features as the recall is perfect on the train set, implying massive overfit"
   ]
  },
  {
   "cell_type": "code",
   "execution_count": 50,
   "id": "leading-message",
   "metadata": {},
   "outputs": [
    {
     "data": {
      "text/plain": [
       "GridSearchCV(cv=5,\n",
       "             estimator=Pipeline(steps=[('preprocessor',\n",
       "                                        ColumnTransformer(transformers=[('num',\n",
       "                                                                         Pipeline(steps=[('scaler',\n",
       "                                                                                          MinMaxScaler())]),\n",
       "                                                                         ['Age',\n",
       "                                                                          'DailyRate',\n",
       "                                                                          'DistanceFromHome',\n",
       "                                                                          'Education',\n",
       "                                                                          'EnvironmentSatisfaction',\n",
       "                                                                          'HourlyRate',\n",
       "                                                                          'JobInvolvement',\n",
       "                                                                          'JobLevel',\n",
       "                                                                          'JobSatisfaction',\n",
       "                                                                          'MonthlyIncome',\n",
       "                                                                          'MonthlyRate',\n",
       "                                                                          'NumCompaniesWorked',\n",
       "                                                                          'PercentSalaryHike',\n",
       "                                                                          '...\n",
       "                                                                         ['BusinessTravel',\n",
       "                                                                          'Department',\n",
       "                                                                          'EducationField',\n",
       "                                                                          'Gender',\n",
       "                                                                          'JobRole',\n",
       "                                                                          'MaritalStatus',\n",
       "                                                                          'OverTime'])])),\n",
       "                                       ('classifier',\n",
       "                                        DecisionTreeClassifier())]),\n",
       "             n_jobs=-1,\n",
       "             param_grid={'classifier__criterion': ['gini', 'entropy'],\n",
       "                         'classifier__max_depth': [6, 7, 8],\n",
       "                         'classifier__min_samples_leaf': [0.1, 0.2],\n",
       "                         'classifier__min_samples_split': [0.1, 0.2]},\n",
       "             return_train_score=True, scoring='recall')"
      ]
     },
     "execution_count": 50,
     "metadata": {},
     "output_type": "execute_result"
    }
   ],
   "source": [
    "#time for our model\n",
    "\n",
    "clf_dt = Pipeline(steps=[('preprocessor', preprocessor),\n",
    "                             ('classifier', DecisionTreeClassifier())])\n",
    "\n",
    "param_grid = {\n",
    "    'classifier__criterion': ['gini', 'entropy'],\n",
    "    'classifier__max_depth': [6, 7, 8],\n",
    "    'classifier__min_samples_split': [.1, .2],\n",
    "    'classifier__min_samples_leaf': [.1, .2]\n",
    "}\n",
    "\n",
    "search = GridSearchCV(clf_dt, param_grid, n_jobs=-1, cv=5, scoring = 'recall', return_train_score=True)\n",
    "\n",
    "search.fit(X_train, y_train)"
   ]
  },
  {
   "cell_type": "code",
   "execution_count": 51,
   "id": "bulgarian-nicholas",
   "metadata": {},
   "outputs": [
    {
     "name": "stdout",
     "output_type": "stream",
     "text": [
      "<class 'bool'>\n",
      "Train Scores\n",
      "------------\n",
      "Accuracy: 0.8493647912885662\n",
      "Recall: 0.3465909090909091\n",
      "F1 Score: 0.42361111111111116\n",
      "--------------------\n",
      "Test Scores\n",
      "-----------\n",
      "Accuracy: 0.8315217391304348\n",
      "Recall: 0.3114754098360656\n",
      "F1 Score: 0.38\n"
     ]
    },
    {
     "data": {
      "image/png": "[encoded data removed]",
      "text/plain": [
       "<Figure size 432x288 with 2 Axes>"
      ]
     },
     "metadata": {
      "needs_background": "light"
     },
     "output_type": "display_data"
    }
   ],
   "source": [
    "evaluate(search, X_train, X_test, y_train, y_test, use_decision_function = 'skip')"
   ]
  },
  {
   "cell_type": "code",
   "execution_count": 52,
   "id": "atomic-duration",
   "metadata": {
    "scrolled": false
   },
   "outputs": [
    {
     "data": {
      "text/plain": [
       "{'classifier__criterion': 'entropy',\n",
       " 'classifier__max_depth': 6,\n",
       " 'classifier__min_samples_leaf': 0.1,\n",
       " 'classifier__min_samples_split': 0.1}"
      ]
     },
     "execution_count": 52,
     "metadata": {},
     "output_type": "execute_result"
    }
   ],
   "source": [
    "search.best_params_"
   ]
  },
  {
   "cell_type": "code",
   "execution_count": 53,
   "id": "modern-savannah",
   "metadata": {},
   "outputs": [
    {
     "data": {
      "text/plain": [
       "<matplotlib.axes._subplots.AxesSubplot at 0x2a5be506438>"
      ]
     },
     "execution_count": 53,
     "metadata": {},
     "output_type": "execute_result"
    },
    {
     "data": {
      "image/png": "[encoded data removed]",
      "text/plain": [
       "<Figure size 432x288 with 1 Axes>"
      ]
     },
     "metadata": {
      "needs_background": "light"
     },
     "output_type": "display_data"
    }
   ],
   "source": [
    "importance = search.best_estimator_.steps[1][1].feature_importances_\n",
    "\n",
    "pd.Series(importance, index=X_new.columns).nlargest(10).plot(kind='barh')"
   ]
  },
  {
   "cell_type": "markdown",
   "id": "integrated-wallace",
   "metadata": {},
   "source": [
    "We see some overlap in terms of feature importance with the logistic regression model, with features like Overtime and years at the company, but also new ones like stock option level and age."
   ]
  },
  {
   "cell_type": "markdown",
   "id": "pressed-search",
   "metadata": {},
   "source": [
    "The model doesn't appear to be overfit at all, but the recall scores are quite low, with a false negative rate of 11.4%. It's unlikely for this to do better than Bayes or Logistic regression. Let's move on to a boosted tree."
   ]
  },
  {
   "cell_type": "markdown",
   "id": "initial-algebra",
   "metadata": {},
   "source": [
    "### XGBoost\n",
    "\n",
    "XGBoost is a type of gradient boosted algorithm. It outperforms nearly all other classification algorithms so it should certainly be used here. Boosted trees deal well with class imbalances and are resilient against noisy data and overfitting."
   ]
  },
  {
   "cell_type": "code",
   "execution_count": 54,
   "id": "gothic-scanner",
   "metadata": {},
   "outputs": [
    {
     "data": {
      "text/plain": [
       "GridSearchCV(cv=5,\n",
       "             estimator=Pipeline(steps=[('preprocessor',\n",
       "                                        ColumnTransformer(transformers=[('num',\n",
       "                                                                         Pipeline(steps=[('scaler',\n",
       "                                                                                          MinMaxScaler())]),\n",
       "                                                                         ['Age',\n",
       "                                                                          'DailyRate',\n",
       "                                                                          'DistanceFromHome',\n",
       "                                                                          'Education',\n",
       "                                                                          'EnvironmentSatisfaction',\n",
       "                                                                          'HourlyRate',\n",
       "                                                                          'JobInvolvement',\n",
       "                                                                          'JobLevel',\n",
       "                                                                          'JobSatisfaction',\n",
       "                                                                          'MonthlyIncome',\n",
       "                                                                          'MonthlyRate',\n",
       "                                                                          'NumCompaniesWorked',\n",
       "                                                                          'PercentSalaryHike',\n",
       "                                                                          '...\n",
       "                                                                                          OneHotEncoder(handle_unknown='ignore'))]),\n",
       "                                                                         ['BusinessTravel',\n",
       "                                                                          'Department',\n",
       "                                                                          'EducationField',\n",
       "                                                                          'Gender',\n",
       "                                                                          'JobRole',\n",
       "                                                                          'MaritalStatus',\n",
       "                                                                          'OverTime'])])),\n",
       "                                       ('classifier', XGBClassifier())]),\n",
       "             param_grid={'classifier__gamma': [1, 2, 3],\n",
       "                         'classifier__learning_': [0.1, 0.2],\n",
       "                         'classifier__max_depth': [5, 6, 7],\n",
       "                         'classifier__min_child_weight': [2, 4],\n",
       "                         'classifier__subsample': [0.5]},\n",
       "             return_train_score=True, scoring='recall')"
      ]
     },
     "execution_count": 54,
     "metadata": {},
     "output_type": "execute_result"
    }
   ],
   "source": [
    "clf_xgb = Pipeline(steps=[('preprocessor', preprocessor),\n",
    "                             ('classifier', XGBClassifier())])\n",
    "\n",
    "xgb_param_grid = {\n",
    "    'classifier__learning_': [.1, .2],\n",
    "    'classifier__max_depth': [5, 6, 7],\n",
    "    'classifier__min_child_weight': [2, 4],\n",
    "    'classifier__subsample': [.5],\n",
    "    'classifier__gamma': [1, 2, 3]\n",
    "}\n",
    "    \n",
    "search = GridSearchCV(clf_xgb, xgb_param_grid, cv=5, scoring = 'recall', return_train_score=True)\n",
    "search.fit(X_train, y_train)"
   ]
  },
  {
   "cell_type": "code",
   "execution_count": 55,
   "id": "posted-inventory",
   "metadata": {},
   "outputs": [
    {
     "name": "stdout",
     "output_type": "stream",
     "text": [
      "<class 'bool'>\n",
      "Train Scores\n",
      "------------\n",
      "Accuracy: 0.9473684210526315\n",
      "Recall: 0.6818181818181818\n",
      "F1 Score: 0.8053691275167784\n",
      "--------------------\n",
      "Test Scores\n",
      "-----------\n",
      "Accuracy: 0.8586956521739131\n",
      "Recall: 0.2786885245901639\n",
      "F1 Score: 0.3953488372093023\n"
     ]
    },
    {
     "data": {
      "image/png": "[encoded data removed]",
      "text/plain": [
       "<Figure size 432x288 with 2 Axes>"
      ]
     },
     "metadata": {
      "needs_background": "light"
     },
     "output_type": "display_data"
    }
   ],
   "source": [
    "evaluate(search, X_train, X_test, y_train, y_test, use_decision_function = 'skip')"
   ]
  },
  {
   "cell_type": "code",
   "execution_count": 56,
   "id": "tamil-jesus",
   "metadata": {},
   "outputs": [
    {
     "data": {
      "text/plain": [
       "<matplotlib.axes._subplots.AxesSubplot at 0x2a5be756390>"
      ]
     },
     "execution_count": 56,
     "metadata": {},
     "output_type": "execute_result"
    },
    {
     "data": {
      "image/png": "[encoded data removed]",
      "text/plain": [
       "<Figure size 432x288 with 1 Axes>"
      ]
     },
     "metadata": {
      "needs_background": "light"
     },
     "output_type": "display_data"
    }
   ],
   "source": [
    "importance = search.best_estimator_.steps[1][1].feature_importances_\n",
    "\n",
    "pd.Series(importance, index=X_new.columns).nlargest(10).plot(kind='barh')"
   ]
  },
  {
   "cell_type": "markdown",
   "id": "tutorial-refrigerator",
   "metadata": {},
   "source": [
    "We are dealing with massive overfitting here as well, but even so, the training recall isn't as good as our previous logreg models. We will focus exclusively on iterating and improving the logreg model as our final version."
   ]
  },
  {
   "cell_type": "markdown",
   "id": "artistic-namibia",
   "metadata": {},
   "source": [
    "## Final Model: Logistic Regression"
   ]
  },
  {
   "cell_type": "code",
   "execution_count": 57,
   "id": "known-performance",
   "metadata": {},
   "outputs": [],
   "source": [
    "cols_to_log = ['DistanceFromHome', 'MonthlyIncome', 'NumCompaniesWorked', 'PercentSalaryHike', \n",
    "                'TotalWorkingYears', 'YearsAtCompany', 'YearsInCurrentRole']"
   ]
  },
  {
   "cell_type": "code",
   "execution_count": 58,
   "id": "floral-basics",
   "metadata": {},
   "outputs": [
    {
     "data": {
      "text/plain": [
       "array([[<matplotlib.axes._subplots.AxesSubplot object at 0x000002A5BEB5BCC0>,\n",
       "        <matplotlib.axes._subplots.AxesSubplot object at 0x000002A5BE68E278>,\n",
       "        <matplotlib.axes._subplots.AxesSubplot object at 0x000002A5BE66D6A0>],\n",
       "       [<matplotlib.axes._subplots.AxesSubplot object at 0x000002A5BEB08E80>,\n",
       "        <matplotlib.axes._subplots.AxesSubplot object at 0x000002A5BEA50CC0>,\n",
       "        <matplotlib.axes._subplots.AxesSubplot object at 0x000002A5BFDA02B0>],\n",
       "       [<matplotlib.axes._subplots.AxesSubplot object at 0x000002A5BFE47860>,\n",
       "        <matplotlib.axes._subplots.AxesSubplot object at 0x000002A5BE9A2E48>,\n",
       "        <matplotlib.axes._subplots.AxesSubplot object at 0x000002A5BE9A2E80>]],\n",
       "      dtype=object)"
      ]
     },
     "execution_count": 58,
     "metadata": {},
     "output_type": "execute_result"
    },
    {
     "data": {
      "image/png": "[encoded data removed]",
      "text/plain": [
       "<Figure size 720x720 with 9 Axes>"
      ]
     },
     "metadata": {
      "needs_background": "light"
     },
     "output_type": "display_data"
    }
   ],
   "source": [
    "df[cols_to_log].hist(figsize=[10,10])"
   ]
  },
  {
   "cell_type": "markdown",
   "id": "nearby-decision",
   "metadata": {},
   "source": [
    "### Tuning further and trying with logged continuous variables"
   ]
  },
  {
   "cell_type": "markdown",
   "id": "precious-housing",
   "metadata": {},
   "source": [
    "We'll be log transforming the above continuous, non-normal variables to hopefully improve our logistic model."
   ]
  },
  {
   "cell_type": "code",
   "execution_count": 59,
   "id": "human-blond",
   "metadata": {},
   "outputs": [],
   "source": [
    "X_train, X_test, y_train, y_test = train_test_split(X, y, random_state=30)"
   ]
  },
  {
   "cell_type": "code",
   "execution_count": 60,
   "id": "typical-hormone",
   "metadata": {},
   "outputs": [],
   "source": [
    "#changing 0s to 1s so we can log these\n",
    "X_log_names_train = X_train[cols_to_log]\n",
    "X_log_names_test = X_test[cols_to_log]\n",
    "\n",
    "\n",
    "X_log_names_train['TotalWorkingYears'] = X_log_names_train['TotalWorkingYears'].replace(0, 1)\n",
    "X_log_names_train['NumCompaniesWorked'] = X_log_names_train['NumCompaniesWorked'].replace(0, 1)\n",
    "X_log_names_train['YearsAtCompany'] = X_log_names_train['YearsAtCompany'].replace(0, 1)\n",
    "X_log_names_train['YearsInCurrentRole'] = X_log_names_train['YearsInCurrentRole'].replace(0, 1)\n",
    "\n",
    "X_log_names_test['TotalWorkingYears'] = X_log_names_test['TotalWorkingYears'].replace(0, 1)\n",
    "X_log_names_test['NumCompaniesWorked'] = X_log_names_test['NumCompaniesWorked'].replace(0, 1)\n",
    "X_log_names_test['YearsAtCompany'] = X_log_names_test['YearsAtCompany'].replace(0, 1)\n",
    "X_log_names_test['YearsInCurrentRole'] = X_log_names_test['YearsInCurrentRole'].replace(0, 1)"
   ]
  },
  {
   "cell_type": "code",
   "execution_count": 61,
   "id": "stunning-measure",
   "metadata": {},
   "outputs": [],
   "source": [
    "log_names_train = [f'{column}_log' for column in X_log_names_train.columns]\n",
    "X_log_train = np.log(X_log_names_train)\n",
    "X_log_train.columns = log_names_train\n",
    "\n",
    "log_names_test = [f'{column}_log' for column in X_log_names_test.columns]\n",
    "X_log_test = np.log(X_log_names_test)\n",
    "X_log_test.columns = log_names_test"
   ]
  },
  {
   "cell_type": "code",
   "execution_count": 62,
   "id": "italic-insulin",
   "metadata": {},
   "outputs": [],
   "source": [
    "no_log_cols = []\n",
    "for col in num_cols:\n",
    "    if col not in cols_to_log:\n",
    "        no_log_cols.append(col)"
   ]
  },
  {
   "cell_type": "code",
   "execution_count": 63,
   "id": "north-salmon",
   "metadata": {},
   "outputs": [],
   "source": [
    "X_ohe_train = X_train[ohe_cols]\n",
    "X_ohe_train = pd.get_dummies(X_ohe_train)\n",
    "\n",
    "X_ohe_test = X_test[ohe_cols]\n",
    "X_ohe_test = pd.get_dummies(X_ohe_test)\n",
    "\n",
    "X_train_nlog = X_train[no_log_cols]\n",
    "X_test_nlog = X_test[no_log_cols]\n",
    "\n",
    "X_train_preprocessed = pd.concat([X_log_train.reset_index(drop=True), \n",
    "                                  X_train_nlog.reset_index(drop=True), X_ohe_train.reset_index(drop=True)], axis=1)\n",
    "X_test_preprocessed = pd.concat([X_log_test.reset_index(drop=True), X_test_nlog.reset_index(drop=True), \n",
    "                                 X_ohe_test.reset_index(drop=True)], axis=1)"
   ]
  },
  {
   "cell_type": "code",
   "execution_count": 64,
   "id": "fallen-manor",
   "metadata": {},
   "outputs": [],
   "source": [
    "minmax_scaler = MinMaxScaler()\n",
    "X_train_preprocessed_scaled = minmax_scaler.fit_transform(X_train_preprocessed)\n",
    "X_test_preprocessed_scaled = minmax_scaler.transform(X_test_preprocessed)"
   ]
  },
  {
   "cell_type": "code",
   "execution_count": 65,
   "id": "several-appendix",
   "metadata": {},
   "outputs": [
    {
     "name": "stdout",
     "output_type": "stream",
     "text": [
      "<class 'numpy.ndarray'>\n",
      "Train Scores\n",
      "------------\n",
      "Accuracy: 0.6687840290381125\n",
      "Recall: 0.9034090909090909\n",
      "F1 Score: 0.465592972181552\n",
      "ROC-AUC: 0.876086049479678\n",
      "--------------------\n",
      "Test Scores\n",
      "-----------\n",
      "Accuracy: 0.6440217391304348\n",
      "Recall: 0.8524590163934426\n",
      "F1 Score: 0.44255319148936173\n",
      "ROC-AUC: 0.8217546857478507\n"
     ]
    },
    {
     "data": {
      "image/png": "[encoded data removed]",
      "text/plain": [
       "<Figure size 432x288 with 2 Axes>"
      ]
     },
     "metadata": {
      "needs_background": "light"
     },
     "output_type": "display_data"
    }
   ],
   "source": [
    "clf_logreg_best = LogisticRegression(C = .1, class_weight ={1: 10, 0: 1})\n",
    "\n",
    "clf_logreg_best.fit(X_train_preprocessed_scaled, y_train)\n",
    "\n",
    "evaluate(clf_logreg_best, X_train_preprocessed_scaled, X_test_preprocessed_scaled, y_train, y_test)"
   ]
  },
  {
   "cell_type": "markdown",
   "id": "technological-prague",
   "metadata": {},
   "source": [
    "While still slightly overfit, log-transforming the non-normal variables improved the recall scores and reduced the false negative rate. The F1 score was also slightly improved."
   ]
  },
  {
   "cell_type": "code",
   "execution_count": 66,
   "id": "bizarre-appointment",
   "metadata": {
    "scrolled": true
   },
   "outputs": [
    {
     "data": {
      "text/plain": [
       "<matplotlib.axes._subplots.AxesSubplot at 0x2a5be5630f0>"
      ]
     },
     "execution_count": 66,
     "metadata": {},
     "output_type": "execute_result"
    },
    {
     "data": {
      "image/png": "[encoded data removed]",
      "text/plain": [
       "<Figure size 432x288 with 1 Axes>"
      ]
     },
     "metadata": {
      "needs_background": "light"
     },
     "output_type": "display_data"
    }
   ],
   "source": [
    "importances = np.exp(clf_logreg_best.coef_)\n",
    "importances = importances.reshape(51,)\n",
    "\n",
    "pd.Series(importances, index=X_train_preprocessed.columns).nlargest(10).plot(kind='barh')"
   ]
  },
  {
   "cell_type": "markdown",
   "id": "official-affect",
   "metadata": {},
   "source": [
    "Before we move to conclusions, let's test out Naive Bayes with the log-transformed continuous variables."
   ]
  },
  {
   "cell_type": "code",
   "execution_count": 67,
   "id": "governmental-permit",
   "metadata": {},
   "outputs": [
    {
     "name": "stdout",
     "output_type": "stream",
     "text": [
      "<class 'bool'>\n",
      "Train Scores\n",
      "------------\n",
      "Accuracy: 0.7323049001814882\n",
      "Recall: 0.7386363636363636\n",
      "F1 Score: 0.46846846846846846\n",
      "--------------------\n",
      "Test Scores\n",
      "-----------\n",
      "Accuracy: 0.717391304347826\n",
      "Recall: 0.5737704918032787\n",
      "F1 Score: 0.4022988505747126\n"
     ]
    },
    {
     "data": {
      "image/png": "[encoded data removed]",
      "text/plain": [
       "<Figure size 432x288 with 2 Axes>"
      ]
     },
     "metadata": {
      "needs_background": "light"
     },
     "output_type": "display_data"
    }
   ],
   "source": [
    "#naive bayes on log transformed vars:\n",
    "\n",
    "clf_gnb_new = GaussianNB()\n",
    "\n",
    "clf_gnb_new.fit(X_train_preprocessed_scaled, y_train)\n",
    "\n",
    "evaluate(clf_gnb_new, X_train_preprocessed_scaled, X_test_preprocessed_scaled, y_train, y_test, use_decision_function = 'skip')"
   ]
  },
  {
   "cell_type": "markdown",
   "id": "hollow-shelter",
   "metadata": {},
   "source": [
    "Test scores actually are worse than before I logged the continuous variables."
   ]
  },
  {
   "cell_type": "markdown",
   "id": "descending-training",
   "metadata": {},
   "source": [
    "## Feature Importances"
   ]
  },
  {
   "cell_type": "markdown",
   "id": "dense-vehicle",
   "metadata": {},
   "source": [
    "The most important feature in the logistic regression model, as discussed before, is the number of years since last promotion, which increases the odds of an employee leaving by more than 3-fold for each additional year that employee is passed over for a promotion. \n",
    "\n",
    "This is different from our tree-based models. In logistic regression, the coefficients are calculated with all features input into the model, while with a tree-based model, features are evaluated separately at specific nodes. This means that if we have collinear features, that could be impacting our feature importances in the logistic regression model. If two features are highly correlated with each other, it might just choose one arbitrarily. Although the results of the logistic model are highly interpretable, we may need to address multicollinearity, which will be tackled in future work.\n",
    "\n",
    "In our XGBoost model, the most important feature is an employee who doesn't work overtime. This means that when the model makes a decision at a node, an employee who doesn't work overtime gave the model its largest information gain in the context of its prediction.\n",
    "\n",
    "In our decision tree classifier, the model only found 5 features of any importance. They are the following in order by importance:\n",
    "- Overtime_yes\n",
    "- Monthly income\n",
    "- Years worked at the company\n",
    "- Stock option level\n",
    "- Age\n",
    "\n",
    "Interestingly, we only see overlap with one feature with the logistic regression model (overtime_yes). These differences are key to understanding how the model makes decisions with our preferred scoring metric, recall, in mind. The XGBoost model and the decision tree model were highly overfit on the training data and underperformed Naive Bayes and logistic regression in terms of recall score. \n",
    "\n",
    "In this context, minimizing the false negative rate is most important to us. The smaller it is, the better our model is doing at predicting which employees will leave the company. Our best model, logistic regression, does sacrifice some accuracy and precision, but having a high false positive rate is not necessarily damaging to a company. Our model misclassifed 39% of employees who didn't leave the company. This is a large percentage, but in this context, it is likely less costly to assume more employees might leave than actually do, than missing employees who actually leave. The company would likely invest more in retaining employees who weren't going to leave anyway, but this wouldn't harm the company. Expenses might rise, but you'll have a happier firm overall in theory. The rise in productivity would likely offset the investment to retain these employees."
   ]
  },
  {
   "cell_type": "markdown",
   "id": "armed-today",
   "metadata": {},
   "source": [
    "## Evaluation and Conclusions"
   ]
  },
  {
   "cell_type": "markdown",
   "id": "applied-resort",
   "metadata": {},
   "source": [
    "The following are the test scores from the best iteration of each model used above.\n",
    "\n",
    "#### Logistic Regression (best model):\n",
    "\n",
    "- Accuracy: 0.644\n",
    "- Recall: 0.85\n",
    "- F1 Score: 0.44\n",
    "- ROC-AUC: 0.82\n",
    "\n",
    "\n",
    "#### Naive Bayes:\n",
    "\n",
    "- Accuracy: 0.68\n",
    "- Recall: 0.64\n",
    "- F1 Score: 0.40\n",
    "\n",
    "\n",
    "#### Decision Tree:\n",
    "\n",
    "- Accuracy: 0.83\n",
    "- Recall: 0.31\n",
    "- F1 Score: 0.38\n",
    "\n",
    "#### XGBoost:\n",
    "\n",
    "- Accuracy: 0.86\n",
    "- Recall: 0.28\n",
    "- F1 Score: 0.40"
   ]
  },
  {
   "cell_type": "markdown",
   "id": "large-pastor",
   "metadata": {},
   "source": [
    "As mentioned before, logistic regression offers our best model as it results in the highest recall score. It misclassified only 9 employees who actually left the company, for a false negative rate of 2.4%. It's true positive rate was 85%, identifying 52 of the 61 employees who left the company in the test set. Overall, it correctly predicted 65% of employees' decisions.\n",
    "\n",
    "The Naive Bayes had a worse recall score but correctly predicted 72% of employees' decisions. Finally, the XGBoost model had the worst recall score but correctly predicted 86% of employees' decisions.\n",
    "\n",
    "In the real world, our modeling here can help companies address issues employees have with their job before the decided to leave (or poor performance ends up in being let go). An employer can hopefully identify which employees they could be at risk of losing, and properly invest resources into retaining them and making them happier. The logistic regression model identified the following five features as the most important in predicting attrition:\n",
    "\n",
    "- Years since last promotion\n",
    "- Frequent business travel\n",
    "- Working overtime\n",
    "- Distance from home\n",
    "- Job role = Sales representative\n",
    "\n",
    "For the first three features, employers can easily address these issues. The promotion process can be overhauled and the firm should investigate why it's not promoting some employees who deserve it based on performance. The firm can also limit business travel and overtime as to prevent burnout. These employees are hardworking and likely contribute a large percentage of a company's bottom line. Distance from home is harder to address because employees choose where they want to live, but firms could institute a more flexible remote-working policy so employees who live farther away don't need to come into the office as often. Sales representatives are generally high-turnover roles across all industries. These jobs often have lower salaries which are offset by the promise of commissions. A company should pay their sales reps fairly - employees who believe they have poor compensation are not going to stay. Sales is a high-stress job, and employers should work to reduce this stress and compensate appropriately.\n",
    "\n",
    "In terms of future work, I'd like to gather more data across different industries. 1500 employees is a small sample and is likely contributing to our issues of overfit in our tree-based models. Having good samples from various types of work can provide extremely useful data and a wholistic view of why employees leave.\n",
    "\n",
    "I'd also want to ensure that this model and the data behind it is used ethically. For example, gender and race should probably be exluded from any model as to avoid bias from employers. [According to the Center for American Progress](https://www.americanprogress.org/issues/economy/reports/2019/12/05/478150/african-americans-face-systematic-obstacles-getting-good-jobs/), Black workers face far higher unemployment rates than white workers, and when they do get jobs, they're paid systematically less than white employees. In addition, Black workers earn fewer benefits and work in less stable industries than white workers. Data scientists developing machine learning algorithms in this space (and across ML applications) must work to remove biases from their models. Future work on this model should focus on not introducing racial or gender bias into the model, and ensure that employers can't abuse this model and use it as an excuse to fire employees they do not like."
   ]
  }
 ],
 "metadata": {
  "kernelspec": {
   "display_name": "learn-env",
   "language": "python",
   "name": "learn-env"
  },
  "language_info": {
   "codemirror_mode": {
    "name": "ipython",
    "version": 3
   },
   "file_extension": ".py",
   "mimetype": "text/x-python",
   "name": "python",
   "nbconvert_exporter": "python",
   "pygments_lexer": "ipython3",
   "version": "3.6.12"
  }
 },
 "nbformat": 4,
 "nbformat_minor": 5
}
